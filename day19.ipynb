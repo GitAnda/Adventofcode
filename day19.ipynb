{
 "cells": [
  {
   "cell_type": "code",
   "execution_count": 1,
   "metadata": {},
   "outputs": [],
   "source": [
    "f = open('day19.txt')\n",
    "input_puzzle = f.read().split('\\n\\n')\n",
    "\n",
    "messages = input_puzzle[1].split('\\n')\n",
    "rules_list = input_puzzle[0].split('\\n')"
   ]
  },
  {
   "cell_type": "code",
   "execution_count": 2,
   "metadata": {},
   "outputs": [],
   "source": [
    "def has_digits(strings):\n",
    "    for string in strings:\n",
    "        if any(char.isdigit() for char in string):\n",
    "            return True\n",
    "    return False\n",
    "\n",
    "def get_known_rules(dict_rules):\n",
    "    known_rules = set()\n",
    "    for rule in dict_rules.keys():\n",
    "        hasDigits = True\n",
    "        for subrule in dict_rules[rule]:\n",
    "            if not(has_digits(dict_rules[rule])):\n",
    "                hasDigits = False\n",
    "                break\n",
    "        if not(hasDigits):\n",
    "            known_rules.add(str(rule))\n",
    "    return known_rules\n",
    "\n",
    "def reduce_spaces(dict_rules):\n",
    "    for rule in dict_rules.keys():\n",
    "        for i,subrule in enumerate(dict_rules[rule]):\n",
    "            dict_rules[rule][i] = subrule.replace('a a', 'aa').replace('a b', 'ab').replace('b a', 'ba').replace('b b', 'bb')\n",
    "    return dict_rules\n",
    "\n",
    "def remove_duplicates(dict_rules):\n",
    "    for rule in dict_rules.keys():\n",
    "        dict_rules[rule] = list(dict.fromkeys(dict_rules[rule]))\n",
    "    return dict_rules\n",
    "\n",
    "def initialise_dict(rules_list):\n",
    "    dict_rules = {}\n",
    "    for rule in rules_list:\n",
    "        rule = rule.split(':')\n",
    "        dict_rules[int(rule[0])] = (rule[1]+' ').split('|')\n",
    "        \n",
    "    return dict_rules\n",
    "\n",
    "def run():\n",
    "    dict_rules = initialise_dict(rules_list)\n",
    "    cont = True\n",
    "    count = 0\n",
    "    while cont:\n",
    "#     for _ in range(12): \n",
    "        known_rules = get_known_rules(dict_rules)\n",
    "        cont = False\n",
    "\n",
    "        for rule in dict_rules.keys():\n",
    "            if has_digits(dict_rules[rule]):\n",
    "                cont = True\n",
    "                \n",
    "                testAdd = []\n",
    "                testRemove = []\n",
    "                \n",
    "                for known_rule in known_rules:\n",
    "                    for x in dict_rules[rule]:\n",
    "                        if ' '+known_rule+' ' in x:\n",
    "                            for y in dict_rules[int(known_rule)]:\n",
    "                                testAdd.append(x.replace(' '+known_rule+' ', y))\n",
    "                             \n",
    "                            testRemove.append(x)\n",
    "\n",
    "                testRemove = list(dict.fromkeys(testRemove))\n",
    "                testAdd = list(dict.fromkeys(testAdd))\n",
    "                for x in testRemove:\n",
    "                    dict_rules[rule].remove(x)\n",
    "                for x in testAdd:\n",
    "                    dict_rules[rule].append(x) \n",
    "    \n",
    "    dict_rules = reduce_spaces(reduce_spaces(dict_rules))   \n",
    "    dict_rules = remove_duplicates(dict_rules)\n",
    "    \n",
    "    return dict_rules\n",
    "        \n",
    "dict_result = run()"
   ]
  },
  {
   "cell_type": "code",
   "execution_count": 55,
   "metadata": {},
   "outputs": [
    {
     "data": {
      "text/plain": [
       "162"
      ]
     },
     "execution_count": 55,
     "metadata": {},
     "output_type": "execute_result"
    }
   ],
   "source": [
    "count = 0 \n",
    "for m in messages:\n",
    "    if ' '+m+' ' in dict_result[0]:\n",
    "        count += 1\n",
    "        \n",
    "count"
   ]
  },
  {
   "cell_type": "code",
   "execution_count": 7,
   "metadata": {},
   "outputs": [
    {
     "data": {
      "text/plain": [
       "267"
      ]
     },
     "execution_count": 7,
     "metadata": {},
     "output_type": "execute_result"
    }
   ],
   "source": [
    "# print('42:', dict_result[42])\n",
    "# print('31:', dict_result[31])\n",
    "from termcolor import colored\n",
    "\n",
    "count = 0\n",
    "for m in messages:\n",
    "    count_42 = 0 \n",
    "    count_31 = 0\n",
    "#     print('\\n')\n",
    "#     print(m)\n",
    "    \n",
    "    for i in range(len(m)//8):\n",
    "        m_i = m[i*8:(i+1)*8]\n",
    "        if ' '+m_i+' ' in dict_result[42] and count_31 == 0:\n",
    "#             print('|  42  |', end='')\n",
    "            count_42 += 1\n",
    "        elif ' '+m_i+' ' in dict_result[31] and count_42 > count_31 + 1:\n",
    "#             print('|  31  |', end='')\n",
    "            count_31 += 1\n",
    "        else:\n",
    "#             print('|break |', end='')\n",
    "            break\n",
    "    \n",
    "    if count_42 > count_31 and count_31 != 0 and count_42 + count_31 == len(m)//8:\n",
    "#         print(colored('\\nokay!', 'green'), end = '' )\n",
    "        count += 1\n",
    "\n",
    "count"
   ]
  }
 ],
 "metadata": {
  "kernelspec": {
   "display_name": "Python (myenv)",
   "language": "python",
   "name": "myenv"
  },
  "language_info": {
   "codemirror_mode": {
    "name": "ipython",
    "version": 3
   },
   "file_extension": ".py",
   "mimetype": "text/x-python",
   "name": "python",
   "nbconvert_exporter": "python",
   "pygments_lexer": "ipython3",
   "version": "3.8.5"
  }
 },
 "nbformat": 4,
 "nbformat_minor": 4
}
