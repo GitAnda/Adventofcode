{
 "cells": [
  {
   "cell_type": "code",
   "execution_count": 4,
   "metadata": {},
   "outputs": [
    {
     "name": "stdout",
     "output_type": "stream",
     "text": [
      "Card loop size: 17167199\n",
      "Door loop size: 19814867\n"
     ]
    }
   ],
   "source": [
    "card_public_key = 9717666\n",
    "door_public_key = 20089533\n",
    "\n",
    "# card_public_key = 5764801\n",
    "# door_public_key = 17807724\n",
    "\n",
    "subject_number = 7\n",
    "division_number = 20201227\n",
    "\n",
    "def find_loop_size(subject_number, division_number, public_key):\n",
    "    key = 1\n",
    "    loop_size = 0\n",
    "    while key != public_key:\n",
    "        key = key * subject_number\n",
    "        key = key%division_number\n",
    "        loop_size += 1\n",
    "        \n",
    "    return loop_size\n",
    "\n",
    "card_loop_size = find_loop_size(subject_number, division_number, card_public_key)\n",
    "door_loop_size = find_loop_size(subject_number, division_number, door_public_key)\n",
    "\n",
    "print('Card loop size:', card_loop_size)\n",
    "print('Door loop size:', door_loop_size)"
   ]
  }
 ],
 "metadata": {
  "kernelspec": {
   "display_name": "Python (myenv)",
   "language": "python",
   "name": "myenv"
  },
  "language_info": {
   "codemirror_mode": {
    "name": "ipython",
    "version": 3
   },
   "file_extension": ".py",
   "mimetype": "text/x-python",
   "name": "python",
   "nbconvert_exporter": "python",
   "pygments_lexer": "ipython3",
   "version": "3.8.5"
  }
 },
 "nbformat": 4,
 "nbformat_minor": 4
}
