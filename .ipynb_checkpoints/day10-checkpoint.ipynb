{
 "cells": [
  {
   "cell_type": "code",
   "execution_count": 49,
   "metadata": {},
   "outputs": [
    {
     "data": {
      "text/plain": [
       "[8, 40, 45, 93, 147]"
      ]
     },
     "execution_count": 49,
     "metadata": {},
     "output_type": "execute_result"
    }
   ],
   "source": [
    "f = open('day10.txt', 'r')\n",
    "input_puzzle = f.read().split('\\n')\n",
    "input_puzzle = [int(x) for x in input_puzzle]\n",
    "input_puzzle[0:5]"
   ]
  },
  {
   "cell_type": "code",
   "execution_count": 50,
   "metadata": {},
   "outputs": [
    {
     "data": {
      "text/plain": [
       "1917"
      ]
     },
     "execution_count": 50,
     "metadata": {},
     "output_type": "execute_result"
    }
   ],
   "source": [
    "import numpy as np\n",
    "\n",
    "input_puzzle.append(0)\n",
    "input_puzzle.sort()\n",
    "sum(np.diff(input_puzzle) == 1)*(sum(np.diff(input_puzzle) == 3)+1)"
   ]
  },
  {
   "cell_type": "code",
   "execution_count": 53,
   "metadata": {},
   "outputs": [
    {
     "name": "stdout",
     "output_type": "stream",
     "text": [
      "113387824750592\n"
     ]
    }
   ],
   "source": [
    "import itertools as it\n",
    "\n",
    "static = [x or y for i,x in enumerate((np.diff(input_puzzle)== 3)[1:]) for j,y in enumerate((np.diff(input_puzzle)== 3)[0:-1]) if i==j]\n",
    "static.insert(0,True)\n",
    "static.append(True)\n",
    "\n",
    "count_dups = [sum(1 for _ in group) for _, group in it.groupby(static)]\n",
    "count_dups = [x for i,x in enumerate(count_dups) if i%2 == 1]\n",
    "\n",
    "# print(input_puzzle)\n",
    "# print(static)\n",
    "# print(count_dups)\n",
    "# print()\n",
    "\n",
    "prod = 1\n",
    "for n in range(len(count_dups)):\n",
    "    idx = static.index(False)\n",
    "    item = input_puzzle[idx-1:idx+count_dups[n]+1]\n",
    "#     print(idx, item)\n",
    "    \n",
    "    static[idx:idx+count_dups[n]] = [True]*count_dups[n]\n",
    "    count = 0\n",
    "    for i in range(len(item[1:-1])+1):\n",
    "        comb = list(it.combinations(item[1:-1], i))\n",
    "        for x in comb:\n",
    "            x = list(x)\n",
    "            x.insert(0,item[0])\n",
    "            x.append(item[-1])\n",
    "#             print(list(x), np.diff(x))\n",
    "            if all(np.diff(x)<4):\n",
    "                count += 1\n",
    "\n",
    "    prod *= count\n",
    "#     print(count)\n",
    "#     print()\n",
    "\n",
    "print(prod)"
   ]
  }
 ],
 "metadata": {
  "kernelspec": {
   "display_name": "Python (myenv)",
   "language": "python",
   "name": "myenv"
  },
  "language_info": {
   "codemirror_mode": {
    "name": "ipython",
    "version": 3
   },
   "file_extension": ".py",
   "mimetype": "text/x-python",
   "name": "python",
   "nbconvert_exporter": "python",
   "pygments_lexer": "ipython3",
   "version": "3.8.5"
  }
 },
 "nbformat": 4,
 "nbformat_minor": 4
}
