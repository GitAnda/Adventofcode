{
 "cells": [
  {
   "cell_type": "code",
   "execution_count": 19,
   "metadata": {},
   "outputs": [
    {
     "name": "stdout",
     "output_type": "stream",
     "text": [
      "Player 1 wins!\n"
     ]
    },
    {
     "data": {
      "text/plain": [
       "32448"
      ]
     },
     "execution_count": 19,
     "metadata": {},
     "output_type": "execute_result"
    }
   ],
   "source": [
    "f = open('day22.txt')\n",
    "input_puzzle = f.read().split('\\n\\n')\n",
    "deck_player_1 = input_puzzle[0].split('\\n')[1:]\n",
    "deck_player_2 = input_puzzle[1].split('\\n')[1:]\n",
    "\n",
    "while len(deck_player_1) != 0 and len(deck_player_2) != 0:\n",
    "    if int(deck_player_1[0]) > int(deck_player_2[0]):\n",
    "        deck_player_1.append(deck_player_1[0])\n",
    "        deck_player_1.append(deck_player_2[0])\n",
    "        deck_player_1 = deck_player_1[1:]\n",
    "        deck_player_2 = deck_player_2[1:]\n",
    "    else:\n",
    "        deck_player_2.append(deck_player_2[0])\n",
    "        deck_player_2.append(deck_player_1[0])\n",
    "        deck_player_2 = deck_player_2[1:]\n",
    "        deck_player_1 = deck_player_1[1:]\n",
    "    \n",
    "if len(deck_player_1) != 0:\n",
    "    print('Player 1 wins!')\n",
    "    winning_deck = deck_player_1\n",
    "else:\n",
    "    print('Player 2 wins!')\n",
    "    winning_deck = deck_player_2\n",
    "\n",
    "multiplier = len(winning_deck)\n",
    "som = 0\n",
    "for x in winning_deck:\n",
    "    som += multiplier*int(x)\n",
    "    multiplier -= 1\n",
    "    \n",
    "som"
   ]
  },
  {
   "cell_type": "code",
   "execution_count": 4,
   "metadata": {},
   "outputs": [
    {
     "ename": "IndexError",
     "evalue": "list index out of range",
     "output_type": "error",
     "traceback": [
      "\u001b[1;31m---------------------------------------------------------------------------\u001b[0m",
      "\u001b[1;31mIndexError\u001b[0m                                Traceback (most recent call last)",
      "\u001b[1;32m<ipython-input-4-aa8db44cc22f>\u001b[0m in \u001b[0;36m<module>\u001b[1;34m\u001b[0m\n\u001b[0;32m      1\u001b[0m \u001b[1;32mwhile\u001b[0m \u001b[0mlen\u001b[0m\u001b[1;33m(\u001b[0m\u001b[0mdeck_player_1\u001b[0m\u001b[1;33m)\u001b[0m \u001b[1;33m!=\u001b[0m \u001b[1;36m0\u001b[0m \u001b[1;32mor\u001b[0m \u001b[0mlen\u001b[0m\u001b[1;33m(\u001b[0m\u001b[0mdeck_player_2\u001b[0m\u001b[1;33m)\u001b[0m \u001b[1;33m!=\u001b[0m \u001b[1;36m0\u001b[0m\u001b[1;33m:\u001b[0m\u001b[1;33m\u001b[0m\u001b[1;33m\u001b[0m\u001b[0m\n\u001b[1;32m----> 2\u001b[1;33m     \u001b[1;32mif\u001b[0m \u001b[0mdeck_player_1\u001b[0m\u001b[1;33m[\u001b[0m\u001b[1;36m0\u001b[0m\u001b[1;33m]\u001b[0m \u001b[1;33m>\u001b[0m \u001b[0mdeck_player_2\u001b[0m\u001b[1;33m[\u001b[0m\u001b[1;36m0\u001b[0m\u001b[1;33m]\u001b[0m\u001b[1;33m:\u001b[0m\u001b[1;33m\u001b[0m\u001b[1;33m\u001b[0m\u001b[0m\n\u001b[0m\u001b[0;32m      3\u001b[0m         \u001b[0mdeck_player_1\u001b[0m\u001b[1;33m.\u001b[0m\u001b[0mappend\u001b[0m\u001b[1;33m(\u001b[0m\u001b[0mdeck_player_1\u001b[0m\u001b[1;33m[\u001b[0m\u001b[1;36m0\u001b[0m\u001b[1;33m]\u001b[0m\u001b[1;33m)\u001b[0m\u001b[1;33m\u001b[0m\u001b[1;33m\u001b[0m\u001b[0m\n\u001b[0;32m      4\u001b[0m         \u001b[0mdeck_player_1\u001b[0m\u001b[1;33m.\u001b[0m\u001b[0mappend\u001b[0m\u001b[1;33m(\u001b[0m\u001b[0mdeck_player_2\u001b[0m\u001b[1;33m[\u001b[0m\u001b[1;36m0\u001b[0m\u001b[1;33m]\u001b[0m\u001b[1;33m)\u001b[0m\u001b[1;33m\u001b[0m\u001b[1;33m\u001b[0m\u001b[0m\n\u001b[0;32m      5\u001b[0m         \u001b[0mdeck_player_1\u001b[0m \u001b[1;33m=\u001b[0m \u001b[0mdeck_player_1\u001b[0m\u001b[1;33m[\u001b[0m\u001b[1;36m1\u001b[0m\u001b[1;33m:\u001b[0m\u001b[1;33m]\u001b[0m\u001b[1;33m\u001b[0m\u001b[1;33m\u001b[0m\u001b[0m\n",
      "\u001b[1;31mIndexError\u001b[0m: list index out of range"
     ]
    }
   ],
   "source": [
    "f = open('day22.txt')\n",
    "input_puzzle = f.read().split('\\n\\n')\n",
    "deck_player_1 = input_puzzle[0].split('\\n')[1:]\n",
    "deck_player_2 = input_puzzle[1].split('\\n')[1:]\n",
    "\n",
    "while len(deck_player_1) != 0 and len(deck_player_2) != 0:\n",
    "    if int(deck_player_1[0]) > int(deck_player_2[0]):\n",
    "        deck_player_1.append(deck_player_1[0])\n",
    "        deck_player_1.append(deck_player_2[0])\n",
    "        deck_player_1 = deck_player_1[1:]\n",
    "        deck_player_2 = deck_player_2[1:]\n",
    "    else:\n",
    "        deck_player_2.append(deck_player_2[0])\n",
    "        deck_player_2.append(deck_player_1[0])\n",
    "        deck_player_2 = deck_player_2[1:]\n",
    "        deck_player_1 = deck_player_1[1:]\n",
    "    \n",
    "if len(deck_player_1) != 0:\n",
    "    print('Player 1 wins!')\n",
    "    winning_deck = deck_player_1\n",
    "else:\n",
    "    print('Player 2 wins!')\n",
    "    winning_deck = deck_player_2\n",
    "\n",
    "multiplier = len(winning_deck)\n",
    "som = 0\n",
    "for x in winning_deck:\n",
    "    som += multiplier*int(x)\n",
    "    multiplier -= 1\n",
    "    \n",
    "som"
   ]
  }
 ],
 "metadata": {
  "kernelspec": {
   "display_name": "Python (myenv)",
   "language": "python",
   "name": "myenv"
  },
  "language_info": {
   "codemirror_mode": {
    "name": "ipython",
    "version": 3
   },
   "file_extension": ".py",
   "mimetype": "text/x-python",
   "name": "python",
   "nbconvert_exporter": "python",
   "pygments_lexer": "ipython3",
   "version": "3.8.5"
  }
 },
 "nbformat": 4,
 "nbformat_minor": 4
}
