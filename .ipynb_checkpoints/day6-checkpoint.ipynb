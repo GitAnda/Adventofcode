{
 "cells": [
  {
   "cell_type": "code",
   "execution_count": 29,
   "metadata": {},
   "outputs": [
    {
     "data": {
      "text/plain": [
       "['xtpmjeuayzkflcdo\\nzdaeyxlpftkmojc',\n",
       " 'ifnkhzalvprjtyus\\nlmihuzrytjns\\nuilmsotygbnhrzj\\nuwslqctjnirzxhy',\n",
       " 'lhuydwqxaempbisrnfcjtvz\\nrvtcegbhljadfpxzsiuyqwnm\\nrzyvtefjdsplucmqbinahxw',\n",
       " 'whlxgytuoaidpfrsbvmkjqez\\niwfghlytovbpdemzanjq\\nmpejclwhqziatybogvdf',\n",
       " 'qsmuehbvfiwlkx\\ngtmdsbrqfwhk']"
      ]
     },
     "execution_count": 29,
     "metadata": {},
     "output_type": "execute_result"
    }
   ],
   "source": [
    "f = open('day6.txt', 'r')\n",
    "input_puzzle = f.read()\n",
    "input_puzzle = input_puzzle.split(\"\\n\\n\")\n",
    "input_puzzle[0:5]"
   ]
  },
  {
   "cell_type": "code",
   "execution_count": 30,
   "metadata": {},
   "outputs": [
    {
     "data": {
      "text/plain": [
       "['acdefjklmoptuxyz',\n",
       " 'abcfghijklmnopqrstuvwxyz',\n",
       " 'abcdefghijlmnpqrstuvwxyz',\n",
       " 'abcdefghijklmnopqrstuvwxyz',\n",
       " 'bdefghiklmqrstuvwx']"
      ]
     },
     "execution_count": 30,
     "metadata": {},
     "output_type": "execute_result"
    }
   ],
   "source": [
    "input_puzzle = [x.replace('\\n', '') for x in input_puzzle]\n",
    "unique = [''.join(sorted(list(set(x)))) for x in input_puzzle]\n",
    "unique[0:5]"
   ]
  },
  {
   "cell_type": "code",
   "execution_count": 33,
   "metadata": {},
   "outputs": [
    {
     "data": {
      "text/plain": [
       "6878"
      ]
     },
     "execution_count": 33,
     "metadata": {},
     "output_type": "execute_result"
    }
   ],
   "source": [
    "counts = [len(x) for x in unique]\n",
    "sum(counts)"
   ]
  },
  {
   "cell_type": "code",
   "execution_count": null,
   "metadata": {},
   "outputs": [],
   "source": []
  }
 ],
 "metadata": {
  "kernelspec": {
   "display_name": "Python (myenv)",
   "language": "python",
   "name": "myenv"
  },
  "language_info": {
   "codemirror_mode": {
    "name": "ipython",
    "version": 3
   },
   "file_extension": ".py",
   "mimetype": "text/x-python",
   "name": "python",
   "nbconvert_exporter": "python",
   "pygments_lexer": "ipython3",
   "version": "3.8.5"
  }
 },
 "nbformat": 4,
 "nbformat_minor": 4
}
