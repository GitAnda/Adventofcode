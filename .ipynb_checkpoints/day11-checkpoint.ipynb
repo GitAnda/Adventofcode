{
 "cells": [
  {
   "cell_type": "code",
   "execution_count": 61,
   "metadata": {},
   "outputs": [
    {
     "data": {
      "text/plain": [
       "['LLLLLLLLLLLLLL.LLLLLLLLLLLLLLL.LLLLLLLLL.LLLLLLL.LLLLLLL.LLLLLL.LLLLLLLL.LLLLL.LLLLLLLL..LLLLLLLLL',\n",
       " 'LLLLLLLLL.LLLL.LLLLL.L.LLLLLLL.LLLLLLLLL.LLLLLL.L.LLLLLL.LLLLLL.LLLLLLLLLLLLLLLL.LLLLLLLLLLLLLLLLL',\n",
       " 'LLLLLLLLL..LLL.LLLLL.LLLLLLLLL.LLLLLLLL..LLLLLLLL..LLLLL.LLLLL.LLLLLLLLLLLLLLLLLLL.LLL.L.LLLLLLLLL',\n",
       " 'LLLLLLLLL.LLLL.LLLLLLLLLLLLLLL.LLLLLLLLL.LLLLLLLL.LLLLLL.LLLLLL.LLLLLLLLLLLLLL...LLLLL.LLLLLLLLL.L',\n",
       " 'LLLLLLLLL.LLLLLLLLLL.LLLLLLL.L.LLLLLLLLL.LLLLLLLL.LLLLLLLLLLLLL.LLLLLLLL.LLLLLLL.L.LLL.L.LLLL.LLLL']"
      ]
     },
     "execution_count": 61,
     "metadata": {},
     "output_type": "execute_result"
    }
   ],
   "source": [
    "f = open('day11.txt', 'r')\n",
    "input_puzzle = f.read().split('\\n')\n",
    "input_puzzle[0:5]"
   ]
  },
  {
   "cell_type": "code",
   "execution_count": 62,
   "metadata": {},
   "outputs": [
    {
     "data": {
      "text/plain": [
       "2468"
      ]
     },
     "execution_count": 62,
     "metadata": {},
     "output_type": "execute_result"
    }
   ],
   "source": [
    "def get_seats(n,m,layout):\n",
    "    seats = []\n",
    "    for i in [-1, 0, 1]:\n",
    "        for j in [-1, 0, 1]:\n",
    "            if not(i==0 and j==0) and (n+i >= 0) and (m+j >= 0) and (n+i < len(layout)) and (m+j < len(layout[0])):\n",
    "                seats.append(layout[n+i][m+j])\n",
    "            \n",
    "    return seats\n",
    "\n",
    "def print_layout(layout):\n",
    "    for i in range(len(layout)):\n",
    "        if i < 10:\n",
    "            print(i, '  ', layout[i])\n",
    "        else:\n",
    "            print(i, ' ', layout[i])\n",
    "    \n",
    "def seat_change(layout):\n",
    "    change = 0\n",
    "    output = []\n",
    "    for i in range(len(layout)):\n",
    "        row = []\n",
    "        for j in range(len(layout[0])):\n",
    "            seats = get_seats(i,j,layout)\n",
    "#             print(seats)\n",
    "            full_seats = seats.count('#')\n",
    "            if layout[i][j] == 'L' and full_seats == 0:\n",
    "                row.append('#')\n",
    "                change += 1\n",
    "            elif layout[i][j] == '#' and full_seats > 3:\n",
    "                row.append('L')\n",
    "                change += 1\n",
    "            else:\n",
    "                row.append(layout[i][j])\n",
    "        output.append(''.join(row))\n",
    "        \n",
    "    return output, change\n",
    "\n",
    "def count_full_seats(layout):\n",
    "    count = 0\n",
    "    for i in range(len(layout)):\n",
    "        count += layout[i].count('#')\n",
    "        \n",
    "    return count\n",
    "\n",
    "output, change = seat_change(input_puzzle)\n",
    "\n",
    "while change != 0:\n",
    "# for i in range(7):\n",
    "#     print(change)\n",
    "#     print_layout(output)\n",
    "#     print()\n",
    "    output, change = seat_change(output)\n",
    "    \n",
    "count_full_seats(output)"
   ]
  },
  {
   "cell_type": "code",
   "execution_count": 64,
   "metadata": {},
   "outputs": [
    {
     "ename": "KeyboardInterrupt",
     "evalue": "",
     "output_type": "error",
     "traceback": [
      "\u001b[1;31m---------------------------------------------------------------------------\u001b[0m",
      "\u001b[1;31mKeyboardInterrupt\u001b[0m                         Traceback (most recent call last)",
      "\u001b[1;32m<ipython-input-64-18ff7a5ae590>\u001b[0m in \u001b[0;36m<module>\u001b[1;34m\u001b[0m\n\u001b[0;32m     53\u001b[0m     \u001b[1;32mreturn\u001b[0m \u001b[0mcount\u001b[0m\u001b[1;33m\u001b[0m\u001b[1;33m\u001b[0m\u001b[0m\n\u001b[0;32m     54\u001b[0m \u001b[1;33m\u001b[0m\u001b[0m\n\u001b[1;32m---> 55\u001b[1;33m \u001b[0moutput\u001b[0m\u001b[1;33m,\u001b[0m \u001b[0mchange\u001b[0m \u001b[1;33m=\u001b[0m \u001b[0mseat_change\u001b[0m\u001b[1;33m(\u001b[0m\u001b[0minput_puzzle\u001b[0m\u001b[1;33m)\u001b[0m\u001b[1;33m\u001b[0m\u001b[1;33m\u001b[0m\u001b[0m\n\u001b[0m\u001b[0;32m     56\u001b[0m \u001b[1;33m\u001b[0m\u001b[0m\n\u001b[0;32m     57\u001b[0m \u001b[1;31m# # while change != 0:\u001b[0m\u001b[1;33m\u001b[0m\u001b[1;33m\u001b[0m\u001b[1;33m\u001b[0m\u001b[0m\n",
      "\u001b[1;32m<ipython-input-64-18ff7a5ae590>\u001b[0m in \u001b[0;36mseat_change\u001b[1;34m(layout)\u001b[0m\n\u001b[0;32m     31\u001b[0m         \u001b[0mrow\u001b[0m \u001b[1;33m=\u001b[0m \u001b[1;33m[\u001b[0m\u001b[1;33m]\u001b[0m\u001b[1;33m\u001b[0m\u001b[1;33m\u001b[0m\u001b[0m\n\u001b[0;32m     32\u001b[0m         \u001b[1;32mfor\u001b[0m \u001b[0mj\u001b[0m \u001b[1;32min\u001b[0m \u001b[0mrange\u001b[0m\u001b[1;33m(\u001b[0m\u001b[0mlen\u001b[0m\u001b[1;33m(\u001b[0m\u001b[0mlayout\u001b[0m\u001b[1;33m[\u001b[0m\u001b[1;36m0\u001b[0m\u001b[1;33m]\u001b[0m\u001b[1;33m)\u001b[0m\u001b[1;33m)\u001b[0m\u001b[1;33m:\u001b[0m\u001b[1;33m\u001b[0m\u001b[1;33m\u001b[0m\u001b[0m\n\u001b[1;32m---> 33\u001b[1;33m             \u001b[0mseats\u001b[0m \u001b[1;33m=\u001b[0m \u001b[0mget_seats\u001b[0m\u001b[1;33m(\u001b[0m\u001b[0mi\u001b[0m\u001b[1;33m,\u001b[0m\u001b[0mj\u001b[0m\u001b[1;33m,\u001b[0m\u001b[0mlayout\u001b[0m\u001b[1;33m)\u001b[0m\u001b[1;33m\u001b[0m\u001b[1;33m\u001b[0m\u001b[0m\n\u001b[0m\u001b[0;32m     34\u001b[0m \u001b[1;31m#             print(seats)\u001b[0m\u001b[1;33m\u001b[0m\u001b[1;33m\u001b[0m\u001b[1;33m\u001b[0m\u001b[0m\n\u001b[0;32m     35\u001b[0m             \u001b[0mfull_seats\u001b[0m \u001b[1;33m=\u001b[0m \u001b[0mseats\u001b[0m\u001b[1;33m.\u001b[0m\u001b[0mcount\u001b[0m\u001b[1;33m(\u001b[0m\u001b[1;34m'#'\u001b[0m\u001b[1;33m)\u001b[0m\u001b[1;33m\u001b[0m\u001b[1;33m\u001b[0m\u001b[0m\n",
      "\u001b[1;32m<ipython-input-64-18ff7a5ae590>\u001b[0m in \u001b[0;36mget_seats\u001b[1;34m(n, m, layout)\u001b[0m\n\u001b[0;32m      8\u001b[0m             \u001b[0mcont\u001b[0m \u001b[1;33m=\u001b[0m \u001b[1;32mTrue\u001b[0m\u001b[1;33m\u001b[0m\u001b[1;33m\u001b[0m\u001b[0m\n\u001b[0;32m      9\u001b[0m             \u001b[1;32mwhile\u001b[0m \u001b[0mcont\u001b[0m\u001b[1;33m:\u001b[0m\u001b[1;33m\u001b[0m\u001b[1;33m\u001b[0m\u001b[0m\n\u001b[1;32m---> 10\u001b[1;33m                 \u001b[1;32mif\u001b[0m \u001b[1;32mnot\u001b[0m\u001b[1;33m(\u001b[0m\u001b[0mi\u001b[0m\u001b[1;33m==\u001b[0m\u001b[1;36m0\u001b[0m \u001b[1;32mand\u001b[0m \u001b[0mj\u001b[0m\u001b[1;33m==\u001b[0m\u001b[1;36m0\u001b[0m\u001b[1;33m)\u001b[0m \u001b[1;32mand\u001b[0m \u001b[1;33m(\u001b[0m\u001b[1;36m0\u001b[0m \u001b[1;33m<=\u001b[0m \u001b[0midx_i\u001b[0m \u001b[1;33m<\u001b[0m \u001b[0mlen\u001b[0m\u001b[1;33m(\u001b[0m\u001b[0mlayout\u001b[0m\u001b[1;33m)\u001b[0m\u001b[1;33m)\u001b[0m \u001b[1;32mand\u001b[0m \u001b[1;33m(\u001b[0m\u001b[1;36m0\u001b[0m \u001b[1;33m<=\u001b[0m \u001b[0midx_j\u001b[0m \u001b[1;33m<\u001b[0m \u001b[0mlen\u001b[0m\u001b[1;33m(\u001b[0m\u001b[0mlayout\u001b[0m\u001b[1;33m[\u001b[0m\u001b[1;36m0\u001b[0m\u001b[1;33m]\u001b[0m\u001b[1;33m)\u001b[0m\u001b[1;33m)\u001b[0m\u001b[1;33m:\u001b[0m\u001b[1;33m\u001b[0m\u001b[1;33m\u001b[0m\u001b[0m\n\u001b[0m\u001b[0;32m     11\u001b[0m                     \u001b[1;32mif\u001b[0m \u001b[0mlayout\u001b[0m\u001b[1;33m[\u001b[0m\u001b[0midx_i\u001b[0m\u001b[1;33m]\u001b[0m\u001b[1;33m[\u001b[0m\u001b[0midx_j\u001b[0m\u001b[1;33m]\u001b[0m \u001b[1;33m==\u001b[0m \u001b[1;34m'.'\u001b[0m\u001b[1;33m:\u001b[0m\u001b[1;33m\u001b[0m\u001b[1;33m\u001b[0m\u001b[0m\n\u001b[0;32m     12\u001b[0m                         \u001b[0midx_i\u001b[0m \u001b[1;33m+=\u001b[0m \u001b[0mi\u001b[0m\u001b[1;33m\u001b[0m\u001b[1;33m\u001b[0m\u001b[0m\n",
      "\u001b[1;31mKeyboardInterrupt\u001b[0m: "
     ]
    }
   ],
   "source": [
    "def get_seats(n,m,layout):\n",
    "    # adapt for visibility\n",
    "    seats = []\n",
    "    for i in [-1, 0, 1]:\n",
    "        for j in [-1, 0, 1]:\n",
    "            idx_i = n+i\n",
    "            idx_j = m+j\n",
    "            cont = True\n",
    "            while cont:\n",
    "                if i==0 and j==0:\n",
    "                    cont = False\n",
    "                elif (0 <= idx_i < len(layout)) and (0 <= idx_j < len(layout[0])):\n",
    "                    if layout[idx_i][idx_j] == '.':\n",
    "                        idx_i += i\n",
    "                        idx_j += j\n",
    "                    else:\n",
    "                        seats.append(layout[idx_i][idx_j])\n",
    "                        cont = False\n",
    "                else:\n",
    "                    cont = False\n",
    "            \n",
    "    return seats\n",
    "\n",
    "def print_layout(layout):\n",
    "    for i in range(len(layout)):\n",
    "        if i < 10:\n",
    "            print(i, '  ', layout[i])\n",
    "        else:\n",
    "            print(i, ' ', layout[i])\n",
    "    \n",
    "def seat_change(layout):\n",
    "    change = 0\n",
    "    output = []\n",
    "    for i in range(len(layout)):\n",
    "        row = []\n",
    "        for j in range(len(layout[0])):\n",
    "            seats = get_seats(i,j,layout)\n",
    "#             print(seats)\n",
    "            full_seats = seats.count('#')\n",
    "            if layout[i][j] == 'L' and full_seats == 0:\n",
    "                row.append('#')\n",
    "                change += 1\n",
    "            elif layout[i][j] == '#' and full_seats > 4:\n",
    "                row.append('L')\n",
    "                change += 1\n",
    "            else:\n",
    "                row.append(layout[i][j])\n",
    "        output.append(''.join(row))\n",
    "        \n",
    "    return output, change\n",
    "\n",
    "def count_full_seats(layout):\n",
    "    count = 0\n",
    "    for i in range(len(layout)):\n",
    "        count += layout[i].count('#')\n",
    "        \n",
    "    return count\n",
    "\n",
    "output, change = seat_change(input_puzzle)\n",
    "\n",
    "# # while change != 0:\n",
    "# for i in range(7):\n",
    "#     print(change)\n",
    "# #     print_layout(output)\n",
    "# #     print()\n",
    "#     output, change = seat_change(output)\n",
    "    \n",
    "# count_full_seats(output)"
   ]
  }
 ],
 "metadata": {
  "kernelspec": {
   "display_name": "Python (myenv)",
   "language": "python",
   "name": "myenv"
  },
  "language_info": {
   "codemirror_mode": {
    "name": "ipython",
    "version": 3
   },
   "file_extension": ".py",
   "mimetype": "text/x-python",
   "name": "python",
   "nbconvert_exporter": "python",
   "pygments_lexer": "ipython3",
   "version": "3.8.5"
  }
 },
 "nbformat": 4,
 "nbformat_minor": 4
}
