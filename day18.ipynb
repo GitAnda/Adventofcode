{
 "cells": [
  {
   "cell_type": "code",
   "execution_count": 2,
   "metadata": {},
   "outputs": [
    {
     "data": {
      "text/plain": [
       "['5 + (6 + 3 + (4 + 7 * 3 + 6 + 4 + 2) * 9) * 7 + 7',\n",
       " '5 * 8 + 3 * ((5 + 9 * 9) * (3 * 5 + 7 * 2 * 3) + 3 * 6) + 8',\n",
       " '5 + 5 * (6 + 7) * 5 + 4 * (3 * 3 * 8 + 2)',\n",
       " '(6 + 2 + 9 + 9) * 6 + (2 + (5 * 3 + 4 * 5 * 8 + 5) + 6 + (5 + 9 * 8 + 2 + 2))',\n",
       " '3 + (5 * 4 * 6 + 5 * (9 + 7 * 9)) * 5 + ((2 + 8 * 2) * 6)']"
      ]
     },
     "execution_count": 2,
     "metadata": {},
     "output_type": "execute_result"
    }
   ],
   "source": [
    "f = open('day18.txt')\n",
    "input_puzzle = f.read().split('\\n')\n",
    "input_puzzle[0:5]"
   ]
  },
  {
   "cell_type": "code",
   "execution_count": 4,
   "metadata": {},
   "outputs": [
    {
     "data": {
      "text/plain": [
       "800602729153"
      ]
     },
     "execution_count": 4,
     "metadata": {},
     "output_type": "execute_result"
    }
   ],
   "source": [
    "import re\n",
    "\n",
    "def perform_calculation(string):\n",
    "    r_add = re.search('\\d+ \\+ \\d+', string)\n",
    "    r_multiply = re.search('\\d+ \\* \\d+', string)\n",
    "    \n",
    "    if bool(r_add) and bool(r_multiply):\n",
    "        if r_add.start() < r_multiply.start():\n",
    "            r = r_add\n",
    "        else:\n",
    "            r = r_multiply\n",
    "    elif bool(r_add):\n",
    "        r = r_add\n",
    "    elif bool(r_multiply):\n",
    "        r = r_multiply\n",
    "    else:\n",
    "        return string, False\n",
    "    \n",
    "#     print(string[:r.start()] + str(eval(string[r.start():r.end()])) + string[r.end():])\n",
    "    return string[:r.start()] + str(eval(string[r.start():r.end()])) + string[r.end():], True\n",
    "\n",
    "def reduce_brackets(string):\n",
    "    cont = True\n",
    "    while cont:\n",
    "        cont = False\n",
    "        r = re.search('\\(\\d+\\)', string)\n",
    "        \n",
    "        if bool(r):\n",
    "            cont = True\n",
    "            string = string[:r.start()] + str(eval(string[r.start():r.end()])) + string[r.end():]\n",
    "    \n",
    "#     print(string)\n",
    "    return string\n",
    "\n",
    "def calculate(string):\n",
    "    while True:\n",
    "        cont = True\n",
    "        while cont:\n",
    "            string, cont = perform_calculation(string)\n",
    "            string = reduce_brackets(string)\n",
    "        \n",
    "        if bool(re.search('^\\d+$', string)):\n",
    "            return string\n",
    "        \n",
    "def do_homework(input_puzzle):\n",
    "    som = 0\n",
    "    for exercise in input_puzzle:\n",
    "        som += int(calculate(exercise))\n",
    "    \n",
    "    return som\n",
    "        \n",
    "# string = input_puzzle[0]\n",
    "do_homework(input_puzzle)\n"
   ]
  },
  {
   "cell_type": "code",
   "execution_count": 92,
   "metadata": {},
   "outputs": [
    {
     "data": {
      "text/plain": [
       "92173009047076"
      ]
     },
     "execution_count": 92,
     "metadata": {},
     "output_type": "execute_result"
    }
   ],
   "source": [
    "import re\n",
    "\n",
    "def bracket_level(string):\n",
    "    stack = []\n",
    "    for i, c in enumerate(string):\n",
    "        if c == '(':\n",
    "            stack.append(i)\n",
    "        elif c == ')' and stack:\n",
    "            start = stack.pop()\n",
    "            yield [len(stack), string[start + 1: i]]\n",
    "\n",
    "def add(string):\n",
    "    r = re.search('\\d+ \\+ \\d+', string)\n",
    "    \n",
    "    if bool(r):\n",
    "        return string[:r.start()] + str(eval(string[r.start():r.end()])) + string[r.end():], True\n",
    "        print(string[:r.start()] + str(eval(string[r.start():r.end()])) + string[r.end():])\n",
    "    \n",
    "    return string, False\n",
    "\n",
    "def multiply(string):\n",
    "    r = re.search('\\d+ \\* \\d+', string)\n",
    "    \n",
    "    if bool(r):\n",
    "        return string[:r.start()] + str(eval(string[r.start():r.end()])) + string[r.end():], True\n",
    "        print(string[:r.start()] + str(eval(string[r.start():r.end()])) + string[r.end():])\n",
    "    \n",
    "    return string, False\n",
    "\n",
    "def calculate_substring(string):\n",
    "    while True:\n",
    "        cont = True\n",
    "        while cont:\n",
    "            string, cont = add(string)\n",
    "            \n",
    "        cont = True\n",
    "        while cont:\n",
    "            string, cont = multiply(string)\n",
    "        \n",
    "        if bool(re.search('^\\d+$', string)):\n",
    "            return string\n",
    "        \n",
    "def calculate(string):\n",
    "    max_level = 1\n",
    "    \n",
    "    while max_level != 0:\n",
    "        levels = list(bracket_level(string))\n",
    "        max_level = 0\n",
    "        for level in levels:\n",
    "            if level[0] > max_level:\n",
    "                max_level = level[0]\n",
    "\n",
    "        for level in levels:\n",
    "            if level[0] == max_level:\n",
    "                string = string.replace('('+level[1]+')', str(calculate_substring(level[1])))\n",
    "    \n",
    "    return calculate_substring(string)\n",
    "        \n",
    "def do_homework(input_puzzle):\n",
    "    som = 0\n",
    "    for exercise in input_puzzle:\n",
    "        som += int(calculate(exercise))\n",
    "    \n",
    "    return som\n",
    "        \n",
    "do_homework(input_puzzle)"
   ]
  }
 ],
 "metadata": {
  "kernelspec": {
   "display_name": "Python (myenv)",
   "language": "python",
   "name": "myenv"
  },
  "language_info": {
   "codemirror_mode": {
    "name": "ipython",
    "version": 3
   },
   "file_extension": ".py",
   "mimetype": "text/x-python",
   "name": "python",
   "nbconvert_exporter": "python",
   "pygments_lexer": "ipython3",
   "version": "3.8.5"
  }
 },
 "nbformat": 4,
 "nbformat_minor": 4
}
