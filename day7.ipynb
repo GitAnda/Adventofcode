{
 "cells": [
  {
   "cell_type": "code",
   "execution_count": 192,
   "metadata": {},
   "outputs": [
    {
     "data": {
      "text/plain": [
       "['striped white bags contain 4 drab silver bags.',\n",
       " 'drab silver bags contain no other bags.',\n",
       " 'pale plum bags contain 1 dark black bag.',\n",
       " 'muted gold bags contain 1 wavy red bag, 3 mirrored violet bags, 5 bright gold bags, 5 plaid white bags.',\n",
       " 'muted teal bags contain 2 pale beige bags, 5 clear beige bags, 2 dotted gold bags, 4 posh cyan bags.']"
      ]
     },
     "execution_count": 192,
     "metadata": {},
     "output_type": "execute_result"
    }
   ],
   "source": [
    "f = open('day7.txt', 'r')\n",
    "input_puzzle = f.read()\n",
    "input_puzzle = input_puzzle.split(\"\\n\")\n",
    "input_puzzle[0:5]"
   ]
  },
  {
   "cell_type": "code",
   "execution_count": 122,
   "metadata": {},
   "outputs": [],
   "source": [
    "import re\n",
    "dicts = {}\n",
    "for item in input_puzzle:\n",
    "    items = item.replace(' contain ', ', ').replace('.', '').replace('bags', 'bag').split(', ')\n",
    "    dicts[items[0]] = set([re.sub('^\\d+ ', '', x) for x in items[1:]])\n",
    "\n",
    "bags = {'shiny gold bag'}\n",
    "\n",
    "count = 42\n",
    "while count != 0:\n",
    "    count = 0\n",
    "    for key in dicts:\n",
    "        if not(bags.isdisjoint(dicts[key])) and not({key}.issubset(bags)):\n",
    "            bags = bags.union({key})\n",
    "            count += 1\n",
    "        \n",
    "len(bags)-1"
   ]
  },
  {
   "cell_type": "code",
   "execution_count": 196,
   "metadata": {},
   "outputs": [
    {
     "data": {
      "text/plain": [
       "1469"
      ]
     },
     "execution_count": 196,
     "metadata": {},
     "output_type": "execute_result"
    }
   ],
   "source": [
    "import re\n",
    "dicts = {}\n",
    "\n",
    "input_puzzle.append('no other bags contain no other bags.')\n",
    "\n",
    "for item in input_puzzle:\n",
    "    items = item.replace(' contain ', ', ').replace('.', '').replace('bags', 'bag').split(', ')\n",
    "    dicts[items[0]] = [x for x in items[1:]]\n",
    "\n",
    "bags = ['shiny gold bag']\n",
    "counts = [1]\n",
    "\n",
    "result = 0\n",
    "while set(bags) != {'no other bag'}:\n",
    "    contained_bags = []\n",
    "    contained_counts = []\n",
    "\n",
    "    for i in range(len(bags)):\n",
    "        contained = dicts[bags[i]]\n",
    "        contained_bags += [re.sub('^\\d+ ', '', x) for x in contained]\n",
    "        contained_counts += [int(x.split(\" \")[0].replace('no','0'))*counts[i] for x in contained]\n",
    "\n",
    "    bags = contained_bags\n",
    "    counts = contained_counts\n",
    "    \n",
    "    result += sum(counts)\n",
    "\n",
    "result - sum(counts)"
   ]
  }
 ],
 "metadata": {
  "kernelspec": {
   "display_name": "Python (myenv)",
   "language": "python",
   "name": "myenv"
  },
  "language_info": {
   "codemirror_mode": {
    "name": "ipython",
    "version": 3
   },
   "file_extension": ".py",
   "mimetype": "text/x-python",
   "name": "python",
   "nbconvert_exporter": "python",
   "pygments_lexer": "ipython3",
   "version": "3.8.5"
  }
 },
 "nbformat": 4,
 "nbformat_minor": 4
}
