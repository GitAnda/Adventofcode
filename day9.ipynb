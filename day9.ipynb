{
 "cells": [
  {
   "cell_type": "code",
   "execution_count": 86,
   "metadata": {},
   "outputs": [
    {
     "data": {
      "text/plain": [
       "[17, 31, 1, 10, 41]"
      ]
     },
     "execution_count": 86,
     "metadata": {},
     "output_type": "execute_result"
    }
   ],
   "source": [
    "f = open('day9.txt', 'r')\n",
    "input_puzzle = f.read().split('\\n')\n",
    "input_puzzle = [int(x) for x in input_puzzle]\n",
    "input_puzzle[0:5]"
   ]
  },
  {
   "cell_type": "code",
   "execution_count": 84,
   "metadata": {},
   "outputs": [],
   "source": [
    "def sum_in_list(number, array):\n",
    "    for j in range(len(array)):\n",
    "            for k in range(j+1, len(array)):\n",
    "                if array[j] + array[k] == number:\n",
    "                    return True\n",
    "    \n",
    "    return False"
   ]
  },
  {
   "cell_type": "code",
   "execution_count": 87,
   "metadata": {},
   "outputs": [
    {
     "data": {
      "text/plain": [
       "1309761972"
      ]
     },
     "execution_count": 87,
     "metadata": {},
     "output_type": "execute_result"
    }
   ],
   "source": [
    "def invalid_number():\n",
    "    N = 25\n",
    "\n",
    "    for i in range(len(input_puzzle) - N + 1):\n",
    "        array = input_puzzle[i:i+N]\n",
    "        if not(sum_in_list(input_puzzle[i+N], array)):\n",
    "            return input_puzzle[i+N]\n",
    "\n",
    "invalid_number()"
   ]
  },
  {
   "cell_type": "code",
   "execution_count": 96,
   "metadata": {},
   "outputs": [
    {
     "name": "stdout",
     "output_type": "stream",
     "text": [
      "[55940665, 55849911, 57245695, 101821668, 116099069, 63130797, 64021846, 68383164, 67965922, 65586219, 66869977, 67147986, 94576426, 72844007, 95999227, 74139472, 122139921]\n"
     ]
    },
    {
     "data": {
      "text/plain": [
       "177989832"
      ]
     },
     "execution_count": 96,
     "metadata": {},
     "output_type": "execute_result"
    }
   ],
   "source": [
    "def weakness_XMAS():\n",
    "    for n in range(2, len(input_puzzle)):\n",
    "        for i in range(len(input_puzzle)-n+1):\n",
    "            if sum(input_puzzle[i:i+n]) == 1309761972:\n",
    "                print(input_puzzle[i:i+n])\n",
    "                return max(input_puzzle[i:i+n])+min(input_puzzle[i:i+n])\n",
    "            \n",
    "weakness_XMAS()"
   ]
  }
 ],
 "metadata": {
  "kernelspec": {
   "display_name": "Python (myenv)",
   "language": "python",
   "name": "myenv"
  },
  "language_info": {
   "codemirror_mode": {
    "name": "ipython",
    "version": 3
   },
   "file_extension": ".py",
   "mimetype": "text/x-python",
   "name": "python",
   "nbconvert_exporter": "python",
   "pygments_lexer": "ipython3",
   "version": "3.8.5"
  }
 },
 "nbformat": 4,
 "nbformat_minor": 4
}
