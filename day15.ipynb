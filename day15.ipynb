{
 "cells": [
  {
   "cell_type": "code",
   "execution_count": 54,
   "metadata": {},
   "outputs": [
    {
     "data": {
      "text/plain": [
       "651639"
      ]
     },
     "execution_count": 54,
     "metadata": {},
     "output_type": "execute_result"
    }
   ],
   "source": [
    "input_puzzle = [2,15,0,9,1,20]\n",
    "# input_puzzle = [0,3,6]\n",
    "idx_dict = {}\n",
    "\n",
    "for i,x in enumerate(input_puzzle[0:-1]):\n",
    "    idx_dict[x] = i\n",
    "\n",
    "number = input_puzzle[-1]\n",
    "for i in range(len(input_puzzle)-1,30000000-1):\n",
    "#     print(number, 'in', idx_dict, 'is', number in idx_dict.keys())\n",
    "    if number in idx_dict.keys():\n",
    "        idx = idx_dict[number]\n",
    "        idx_dict[number] = i\n",
    "        number = i - idx\n",
    "    else:\n",
    "        idx_dict[number] = i\n",
    "        number = 0\n",
    "        \n",
    "#     if i%1000000 == 0:\n",
    "#         print(i/1000000)\n",
    "        \n",
    "number"
   ]
  }
 ],
 "metadata": {
  "kernelspec": {
   "display_name": "Python (myenv)",
   "language": "python",
   "name": "myenv"
  },
  "language_info": {
   "codemirror_mode": {
    "name": "ipython",
    "version": 3
   },
   "file_extension": ".py",
   "mimetype": "text/x-python",
   "name": "python",
   "nbconvert_exporter": "python",
   "pygments_lexer": "ipython3",
   "version": "3.8.5"
  }
 },
 "nbformat": 4,
 "nbformat_minor": 4
}
