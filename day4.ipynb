{
 "cells": [
  {
   "cell_type": "code",
   "execution_count": 5,
   "metadata": {},
   "outputs": [
    {
     "data": {
      "text/plain": [
       "['iyr:2015 cid:189 ecl:oth byr:1947 hcl:#6c4ab1 eyr:2026\\nhgt:174cm\\npid:526744288',\n",
       " 'pid:688706448 iyr:2017 hgt:162cm cid:174 ecl:grn byr:1943 hcl:#808e9e eyr:2025',\n",
       " 'ecl:oth hcl:#733820 cid:124 pid:111220591\\niyr:2019 eyr:2001\\nbyr:1933 hgt:159in',\n",
       " 'pid:812929897 hgt:159cm hcl:#fffffd byr:1942 iyr:2026 cid:291\\necl:oth\\neyr:2024',\n",
       " 'cid:83 pid:524032739 iyr:2013 ecl:amb byr:1974\\nhgt:191cm hcl:#ceb3a1 eyr:2028']"
      ]
     },
     "execution_count": 5,
     "metadata": {},
     "output_type": "execute_result"
    }
   ],
   "source": [
    "f = open(\"day4.txt\", \"r\")\n",
    "input_puzzle = f.read()\n",
    "input_puzzle = input_puzzle.split('\\n\\n')\n",
    "input_puzzle[0:5]"
   ]
  },
  {
   "cell_type": "code",
   "execution_count": 6,
   "metadata": {},
   "outputs": [
    {
     "data": {
      "text/plain": [
       "264"
      ]
     },
     "execution_count": 6,
     "metadata": {},
     "output_type": "execute_result"
    }
   ],
   "source": [
    "fields = ['byr:','ecl:','eyr:','hcl:','hgt:','iyr:','pid:']\n",
    "\n",
    "count = 0\n",
    "for item in input_puzzle:\n",
    "    if all(field in item for field in fields):\n",
    "        count += 1\n",
    "        \n",
    "count"
   ]
  },
  {
   "cell_type": "code",
   "execution_count": 19,
   "metadata": {},
   "outputs": [
    {
     "data": {
      "text/plain": [
       "224"
      ]
     },
     "execution_count": 19,
     "metadata": {},
     "output_type": "execute_result"
    }
   ],
   "source": [
    "import re\n",
    "fields = ['byr:','ecl:','eyr:','hcl:','hgt:','iyr:','pid:']\n",
    "regex = ['^byr:\\d{4}$','^ecl:(amb|blu|brn|gry|grn|hzl|oth)$','^eyr:\\d{4}$','^hcl:#[0-9a-f]{6}$','^hgt:\\d+(cm|in)$','^iyr:\\d{4}$','^pid:\\d{9}$']\n",
    "# value = {'byr':{1920,2002},'iyr':{2010,2020},'eyr':{2020,2030}'cm':{150,193},'in':{59,76}} \n",
    "\n",
    "count = 0\n",
    "for item in input_puzzle:\n",
    "    items = sorted(re.split('\\n| ',item))\n",
    "    if all(field in item for field in fields):\n",
    "        items = [x for x in items if not 'cid' in x]\n",
    "        if all([re.search(regex[i],items[i]) for i in range(len(items))]):\n",
    "            if 1920 <= int(items[0][4:]) <= 2002:\n",
    "                if 2010 <= int(items[5][4:]) <= 2020:\n",
    "                    if 2020 <= int(items[2][4:]) <= 2030:\n",
    "                        if (items[4][-2:] == 'cm' and 150 <= int(items[4][4:-2]) <= 193) or (items[4][-2:] == 'in' and 59 <= int(items[4][4:-2]) <= 76):\n",
    "#                             print(items)\n",
    "                            count += 1\n",
    "\n",
    "count  "
   ]
  },
  {
   "cell_type": "code",
   "execution_count": 134,
   "metadata": {},
   "outputs": [
    {
     "name": "stdout",
     "output_type": "stream",
     "text": [
      "['byr:1947', 'ecl:oth', 'eyr:2026', 'hcl:#6c4ab1', 'hgt:174cm', 'iyr:2015', 'pid:526744288']\n",
      "['byr:1943', 'ecl:grn', 'eyr:2025', 'hcl:#808e9e', 'hgt:162cm', 'iyr:2017', 'pid:688706448']\n",
      "['byr:1974', 'ecl:amb', 'eyr:2028', 'hcl:#ceb3a1', 'hgt:191cm', 'iyr:2013', 'pid:524032739']\n",
      "['byr:1923', 'ecl:grn', 'eyr:2021', 'hcl:#18171d', 'hgt:181cm', 'iyr:2018', 'pid:777881168']\n",
      "['byr:1941', 'ecl:gry', 'eyr:2027', 'hcl:#a5e1b5', 'hgt:178cm', 'iyr:2016', 'pid:062495008']\n",
      "['byr:1925', 'ecl:blu', 'eyr:2023', 'hcl:#888785', 'hgt:188cm', 'iyr:2020', 'pid:117915262']\n",
      "['byr:1976', 'ecl:blu', 'eyr:2021', 'hcl:#602927', 'hgt:192cm', 'iyr:2011', 'pid:251564680']\n",
      "['byr:1973', 'ecl:blu', 'eyr:2022', 'hcl:#b6652a', 'hgt:164cm', 'iyr:2010', 'pid:695538656']\n",
      "['byr:1949', 'ecl:hzl', 'eyr:2027', 'hcl:#ceb3a1', 'hgt:74in', 'iyr:2014', 'pid:358398181']\n",
      "['byr:1954', 'ecl:blu', 'eyr:2023', 'hcl:#623a2f', 'hgt:172cm', 'iyr:2019', 'pid:657051725']\n",
      "['byr:2000', 'ecl:amb', 'eyr:2026', 'hcl:#602927', 'hgt:162cm', 'iyr:2018', 'pid:562699115']\n",
      "['byr:1981', 'ecl:brn', 'eyr:2027', 'hcl:#b6652a', 'hgt:157cm', 'iyr:2013', 'pid:835184859']\n",
      "['byr:1981', 'ecl:brn', 'eyr:2027', 'hcl:#cfa07d', 'hgt:63in', 'iyr:2010', 'pid:763432667']\n",
      "['byr:1992', 'ecl:hzl', 'eyr:2024', 'hcl:#602927', 'hgt:169cm', 'iyr:2014', 'pid:614239656']\n",
      "['byr:1980', 'ecl:blu', 'eyr:2026', 'hcl:#efcc98', 'hgt:161cm', 'iyr:2013', 'pid:065413599']\n",
      "['byr:1994', 'ecl:amb', 'eyr:2025', 'hcl:#b6652a', 'hgt:182cm', 'iyr:2013', 'pid:939088351']\n",
      "['byr:1976', 'ecl:amb', 'eyr:2025', 'hcl:#ceb3a1', 'hgt:65in', 'iyr:2013', 'pid:167894964']\n",
      "['byr:1981', 'ecl:blu', 'eyr:2020', 'hcl:#888785', 'hgt:185cm', 'iyr:2020', 'pid:582683387']\n",
      "['byr:1948', 'ecl:amb', 'eyr:2020', 'hcl:#866857', 'hgt:164cm', 'iyr:2019', 'pid:358943355']\n",
      "['byr:1991', 'ecl:blu', 'eyr:2020', 'hcl:#ceb3a1', 'hgt:163cm', 'iyr:2017', 'pid:127467714']\n",
      "['byr:1942', 'ecl:blu', 'eyr:2024', 'hcl:#cfa07d', 'hgt:173cm', 'iyr:2014', 'pid:843747591']\n",
      "['byr:1969', 'ecl:oth', 'eyr:2020', 'hcl:#cfa07d', 'hgt:179cm', 'iyr:2020', 'pid:408297435']\n",
      "['byr:1945', 'ecl:amb', 'eyr:2023', 'hcl:#b6652a', 'hgt:66in', 'iyr:2013', 'pid:324081998']\n",
      "['byr:1947', 'ecl:oth', 'eyr:2024', 'hcl:#18171d', 'hgt:164cm', 'iyr:2012', 'pid:756726480']\n",
      "['byr:1951', 'ecl:blu', 'eyr:2027', 'hcl:#fffffd', 'hgt:153cm', 'iyr:2019', 'pid:544645775']\n",
      "['byr:1957', 'ecl:gry', 'eyr:2020', 'hcl:#602927', 'hgt:72in', 'iyr:2014', 'pid:305025767']\n",
      "['byr:1942', 'ecl:gry', 'eyr:2022', 'hcl:#a97842', 'hgt:155cm', 'iyr:2014', 'pid:593995708']\n",
      "['byr:1955', 'ecl:oth', 'eyr:2030', 'hcl:#a97842', 'hgt:170cm', 'iyr:2015', 'pid:219206471']\n",
      "['byr:1952', 'ecl:grn', 'eyr:2020', 'hcl:#a97842', 'hgt:178cm', 'iyr:2013', 'pid:235279200']\n",
      "['byr:1943', 'ecl:grn', 'eyr:2027', 'hcl:#866857', 'hgt:161cm', 'iyr:2013', 'pid:016384352']\n",
      "['byr:1938', 'ecl:brn', 'eyr:2026', 'hcl:#b6652a', 'hgt:184cm', 'iyr:2018', 'pid:832531235']\n",
      "['byr:1945', 'ecl:hzl', 'eyr:2028', 'hcl:#866857', 'hgt:171cm', 'iyr:2015', 'pid:998746896']\n",
      "['byr:1962', 'ecl:hzl', 'eyr:2023', 'hcl:#efcc98', 'hgt:73in', 'iyr:2017', 'pid:458004221']\n",
      "['byr:1970', 'ecl:hzl', 'eyr:2028', 'hcl:#888785', 'hgt:159cm', 'iyr:2013', 'pid:925022199']\n",
      "['byr:1939', 'ecl:gry', 'eyr:2027', 'hcl:#cfa07d', 'hgt:177cm', 'iyr:2016', 'pid:006246552']\n",
      "['byr:1982', 'ecl:grn', 'eyr:2029', 'hcl:#fffffd', 'hgt:159cm', 'iyr:2016', 'pid:619798285']\n",
      "['byr:1937', 'ecl:oth', 'eyr:2023', 'hcl:#efcc98', 'hgt:189cm', 'iyr:2018', 'pid:727551553']\n",
      "['byr:1976', 'ecl:amb', 'eyr:2020', 'hcl:#7d3b0c', 'hgt:186cm', 'iyr:2014', 'pid:125102070']\n",
      "['byr:1949', 'ecl:hzl', 'eyr:2021', 'hcl:#341e13', 'hgt:187cm', 'iyr:2020', 'pid:027653233']\n",
      "['byr:1954', 'ecl:amb', 'eyr:2023', 'hcl:#602927', 'hgt:191cm', 'iyr:2016', 'pid:545631256']\n",
      "['byr:1976', 'ecl:oth', 'eyr:2021', 'hcl:#b6652a', 'hgt:169cm', 'iyr:2018', 'pid:024582079']\n",
      "['byr:1945', 'ecl:grn', 'eyr:2025', 'hcl:#7d3b0c', 'hgt:188cm', 'iyr:2012', 'pid:020478204']\n",
      "['byr:1988', 'ecl:hzl', 'eyr:2026', 'hcl:#2cdc09', 'hgt:185cm', 'iyr:2010', 'pid:202653345']\n",
      "['byr:1977', 'ecl:grn', 'eyr:2029', 'hcl:#18171d', 'hgt:183cm', 'iyr:2017', 'pid:804559436']\n",
      "['byr:1955', 'ecl:gry', 'eyr:2026', 'hcl:#602927', 'hgt:170cm', 'iyr:2020', 'pid:812072269']\n",
      "['byr:1943', 'ecl:brn', 'eyr:2023', 'hcl:#cfa07d', 'hgt:172cm', 'iyr:2010', 'pid:592419048']\n",
      "['byr:1922', 'ecl:brn', 'eyr:2022', 'hcl:#fffffd', 'hgt:64in', 'iyr:2013', 'pid:558179058']\n",
      "['byr:1936', 'ecl:blu', 'eyr:2020', 'hcl:#733820', 'hgt:155cm', 'iyr:2012', 'pid:755165290']\n",
      "['byr:1943', 'ecl:amb', 'eyr:2030', 'hcl:#7d3b0c', 'hgt:157cm', 'iyr:2010', 'pid:906418061']\n",
      "['byr:1920', 'ecl:blu', 'eyr:2022', 'hcl:#fffffd', 'hgt:192cm', 'iyr:2016', 'pid:873200829']\n",
      "['byr:1946', 'ecl:brn', 'eyr:2024', 'hcl:#341e13', 'hgt:154cm', 'iyr:2020', 'pid:520273609']\n",
      "['byr:1957', 'ecl:brn', 'eyr:2020', 'hcl:#d64d7b', 'hgt:181cm', 'iyr:2019', 'pid:378496967']\n",
      "['byr:1939', 'ecl:oth', 'eyr:2027', 'hcl:#888785', 'hgt:160cm', 'iyr:2011', 'pid:002446580']\n",
      "['byr:1983', 'ecl:oth', 'eyr:2024', 'hcl:#7d3b0c', 'hgt:70in', 'iyr:2019', 'pid:369493064']\n",
      "['byr:1936', 'ecl:amb', 'eyr:2029', 'hcl:#b6652a', 'hgt:181cm', 'iyr:2013', 'pid:516025566']\n",
      "['byr:2000', 'ecl:amb', 'eyr:2028', 'hcl:#c0946f', 'hgt:183cm', 'iyr:2013', 'pid:238825672']\n",
      "['byr:1991', 'ecl:gry', 'eyr:2022', 'hcl:#fffffd', 'hgt:159cm', 'iyr:2014', 'pid:691381062']\n",
      "['byr:1934', 'ecl:amb', 'eyr:2028', 'hcl:#c1d296', 'hgt:176cm', 'iyr:2011', 'pid:111506492']\n",
      "['byr:1967', 'ecl:oth', 'eyr:2024', 'hcl:#b6652a', 'hgt:64in', 'iyr:2014', 'pid:138677174']\n",
      "['byr:1927', 'ecl:brn', 'eyr:2030', 'hcl:#6b5442', 'hgt:168cm', 'iyr:2020', 'pid:975843892']\n",
      "['byr:1957', 'ecl:amb', 'eyr:2026', 'hcl:#866857', 'hgt:162cm', 'iyr:2012', 'pid:177266671']\n",
      "['byr:1974', 'ecl:amb', 'eyr:2029', 'hcl:#341e13', 'hgt:175cm', 'iyr:2010', 'pid:465809700']\n",
      "['byr:1956', 'ecl:amb', 'eyr:2029', 'hcl:#efcc98', 'hgt:186cm', 'iyr:2011', 'pid:998471478']\n",
      "['byr:2001', 'ecl:brn', 'eyr:2020', 'hcl:#83bdc5', 'hgt:181cm', 'iyr:2013', 'pid:378527883']\n",
      "['byr:1940', 'ecl:brn', 'eyr:2023', 'hcl:#6b5442', 'hgt:152cm', 'iyr:2019', 'pid:097558436']\n",
      "['byr:1992', 'ecl:amb', 'eyr:2023', 'hcl:#fffffd', 'hgt:174cm', 'iyr:2016', 'pid:691291640']\n",
      "['byr:1965', 'ecl:brn', 'eyr:2028', 'hcl:#623a2f', 'hgt:74in', 'iyr:2012', 'pid:964273950']\n",
      "['byr:1936', 'ecl:grn', 'eyr:2028', 'hcl:#ceb3a1', 'hgt:150cm', 'iyr:2013', 'pid:175294029']\n",
      "['byr:1935', 'ecl:oth', 'eyr:2026', 'hcl:#a97842', 'hgt:180cm', 'iyr:2019', 'pid:857891916']\n",
      "['byr:1961', 'ecl:hzl', 'eyr:2027', 'hcl:#c0946f', 'hgt:192cm', 'iyr:2010', 'pid:084518249']\n",
      "['byr:1924', 'ecl:gry', 'eyr:2026', 'hcl:#c0946f', 'hgt:176cm', 'iyr:2011', 'pid:682212551']\n",
      "['byr:1965', 'ecl:gry', 'eyr:2021', 'hcl:#602927', 'hgt:185cm', 'iyr:2020', 'pid:789810179']\n",
      "['byr:1951', 'ecl:gry', 'eyr:2021', 'hcl:#341e13', 'hgt:173cm', 'iyr:2013', 'pid:672386364']\n",
      "['byr:1955', 'ecl:grn', 'eyr:2030', 'hcl:#18171d', 'hgt:154cm', 'iyr:2012', 'pid:957722245']\n",
      "['byr:1955', 'ecl:oth', 'eyr:2030', 'hcl:#cfa07d', 'hgt:154cm', 'iyr:2013', 'pid:361945273']\n",
      "['byr:1986', 'ecl:grn', 'eyr:2022', 'hcl:#919cc0', 'hgt:75in', 'iyr:2017', 'pid:275525273']\n",
      "['byr:1971', 'ecl:grn', 'eyr:2027', 'hcl:#7d3b0c', 'hgt:179cm', 'iyr:2016', 'pid:301296222']\n",
      "['byr:1926', 'ecl:amb', 'eyr:2030', 'hcl:#888785', 'hgt:186cm', 'iyr:2010', 'pid:995982765']\n",
      "['byr:1955', 'ecl:amb', 'eyr:2027', 'hcl:#602927', 'hgt:165cm', 'iyr:2015', 'pid:168654790']\n",
      "['byr:1956', 'ecl:grn', 'eyr:2029', 'hcl:#7d3b0c', 'hgt:155cm', 'iyr:2016', 'pid:816685992']\n",
      "['byr:1938', 'ecl:grn', 'eyr:2024', 'hcl:#cfa07d', 'hgt:184cm', 'iyr:2012', 'pid:914724136']\n",
      "['byr:1922', 'ecl:brn', 'eyr:2028', 'hcl:#341e13', 'hgt:152cm', 'iyr:2017', 'pid:459704815']\n",
      "['byr:1961', 'ecl:amb', 'eyr:2022', 'hcl:#a97842', 'hgt:187cm', 'iyr:2013', 'pid:753377589']\n",
      "['byr:1963', 'ecl:amb', 'eyr:2025', 'hcl:#bde835', 'hgt:162cm', 'iyr:2020', 'pid:952444443']\n",
      "['byr:1969', 'ecl:blu', 'eyr:2027', 'hcl:#ceb3a1', 'hgt:152cm', 'iyr:2018', 'pid:882429463']\n",
      "['byr:1975', 'ecl:grn', 'eyr:2021', 'hcl:#a97842', 'hgt:63in', 'iyr:2019', 'pid:154078695']\n",
      "['byr:1956', 'ecl:oth', 'eyr:2027', 'hcl:#b6652a', 'hgt:175cm', 'iyr:2020', 'pid:396230480']\n",
      "['byr:1924', 'ecl:grn', 'eyr:2030', 'hcl:#506937', 'hgt:159cm', 'iyr:2011', 'pid:705511368']\n",
      "['byr:1947', 'ecl:grn', 'eyr:2020', 'hcl:#888785', 'hgt:178cm', 'iyr:2019', 'pid:177476829']\n",
      "['byr:1952', 'ecl:hzl', 'eyr:2028', 'hcl:#866857', 'hgt:176cm', 'iyr:2016', 'pid:405182470']\n",
      "['byr:1944', 'ecl:oth', 'eyr:2026', 'hcl:#fffffd', 'hgt:193cm', 'iyr:2017', 'pid:607407479']\n",
      "['byr:1935', 'ecl:hzl', 'eyr:2028', 'hcl:#cfa07d', 'hgt:152cm', 'iyr:2016', 'pid:575721428']\n",
      "['byr:1984', 'ecl:grn', 'eyr:2027', 'hcl:#623a2f', 'hgt:168cm', 'iyr:2012', 'pid:029106453']\n",
      "['byr:1944', 'ecl:blu', 'eyr:2028', 'hcl:#c0946f', 'hgt:163cm', 'iyr:2018', 'pid:709288293']\n",
      "['byr:1985', 'ecl:blu', 'eyr:2027', 'hcl:#d6976a', 'hgt:170cm', 'iyr:2017', 'pid:872750582']\n",
      "['byr:1975', 'ecl:brn', 'eyr:2030', 'hcl:#efcc98', 'hgt:163cm', 'iyr:2020', 'pid:189634089']\n",
      "['byr:1953', 'ecl:amb', 'eyr:2026', 'hcl:#6b5442', 'hgt:193cm', 'iyr:2018', 'pid:418787965']\n",
      "['byr:1922', 'ecl:amb', 'eyr:2023', 'hcl:#6b5442', 'hgt:159cm', 'iyr:2013', 'pid:285371937']\n",
      "['byr:1975', 'ecl:oth', 'eyr:2021', 'hcl:#866857', 'hgt:163cm', 'iyr:2015', 'pid:545260883']\n",
      "['byr:1937', 'ecl:hzl', 'eyr:2023', 'hcl:#6daac4', 'hgt:182cm', 'iyr:2017', 'pid:053762098']\n",
      "['byr:1956', 'ecl:blu', 'eyr:2030', 'hcl:#cfa07d', 'hgt:178cm', 'iyr:2015', 'pid:815359103']\n",
      "['byr:1930', 'ecl:amb', 'eyr:2024', 'hcl:#7d3b0c', 'hgt:162cm', 'iyr:2014', 'pid:438108851']\n",
      "['byr:2001', 'ecl:amb', 'eyr:2027', 'hcl:#90eb1c', 'hgt:178cm', 'iyr:2019', 'pid:314810594']\n",
      "['byr:1922', 'ecl:amb', 'eyr:2025', 'hcl:#6b5442', 'hgt:74in', 'iyr:2018', 'pid:418735327']\n",
      "['byr:1966', 'ecl:brn', 'eyr:2021', 'hcl:#efcc98', 'hgt:174cm', 'iyr:2017', 'pid:473085232']\n",
      "['byr:1943', 'ecl:oth', 'eyr:2030', 'hcl:#602927', 'hgt:67in', 'iyr:2014', 'pid:210476779']\n",
      "['byr:1955', 'ecl:oth', 'eyr:2021', 'hcl:#623a2f', 'hgt:193cm', 'iyr:2012', 'pid:818289829']\n",
      "['byr:1932', 'ecl:brn', 'eyr:2024', 'hcl:#6b5442', 'hgt:157cm', 'iyr:2015', 'pid:4275535874']\n",
      "['byr:1935', 'ecl:hzl', 'eyr:2029', 'hcl:#623a2f', 'hgt:151cm', 'iyr:2018', 'pid:959861097']\n",
      "['byr:1962', 'ecl:grn', 'eyr:2027', 'hcl:#866857', 'hgt:181cm', 'iyr:2016', 'pid:911791767']\n",
      "['byr:1994', 'ecl:oth', 'eyr:2021', 'hcl:#866857', 'hgt:162cm', 'iyr:2014', 'pid:712345689']\n",
      "['byr:1978', 'ecl:brn', 'eyr:2025', 'hcl:#7d3b0c', 'hgt:170cm', 'iyr:2016', 'pid:600132416']\n",
      "['byr:1940', 'ecl:oth', 'eyr:2028', 'hcl:#0a9307', 'hgt:186cm', 'iyr:2019', 'pid:786271493']\n",
      "['byr:1932', 'ecl:hzl', 'eyr:2025', 'hcl:#623a2f', 'hgt:190cm', 'iyr:2019', 'pid:648307551']\n",
      "['byr:1923', 'ecl:gry', 'eyr:2030', 'hcl:#7d3b0c', 'hgt:190cm', 'iyr:2019', 'pid:304587325']\n",
      "['byr:1958', 'ecl:hzl', 'eyr:2027', 'hcl:#888785', 'hgt:188cm', 'iyr:2010', 'pid:572934921']\n",
      "['byr:1975', 'ecl:grn', 'eyr:2023', 'hcl:#7d3b0c', 'hgt:178cm', 'iyr:2019', 'pid:007601227']\n",
      "['byr:1929', 'ecl:grn', 'eyr:2022', 'hcl:#602927', 'hgt:74in', 'iyr:2019', 'pid:808872803']\n",
      "['byr:2001', 'ecl:hzl', 'eyr:2023', 'hcl:#602927', 'hgt:171cm', 'iyr:2019', 'pid:292601338']\n",
      "['byr:1959', 'ecl:amb', 'eyr:2020', 'hcl:#a97842', 'hgt:70in', 'iyr:2014', 'pid:329751670']\n",
      "['byr:1920', 'ecl:oth', 'eyr:2030', 'hcl:#18171d', 'hgt:172cm', 'iyr:2013', 'pid:515139276']\n",
      "['byr:1936', 'ecl:amb', 'eyr:2020', 'hcl:#a97842', 'hgt:65in', 'iyr:2012', 'pid:946040810']\n",
      "['byr:1948', 'ecl:hzl', 'eyr:2023', 'hcl:#18171d', 'hgt:191cm', 'iyr:2019', 'pid:583625200']\n",
      "['byr:1926', 'ecl:oth', 'eyr:2024', 'hcl:#a97842', 'hgt:172cm', 'iyr:2016', 'pid:890698391']\n",
      "['byr:1966', 'ecl:amb', 'eyr:2028', 'hcl:#b6652a', 'hgt:162cm', 'iyr:2010', 'pid:340904964']\n",
      "['byr:1950', 'ecl:blu', 'eyr:2023', 'hcl:#623a2f', 'hgt:168cm', 'iyr:2015', 'pid:602218620']\n",
      "['byr:2002', 'ecl:gry', 'eyr:2029', 'hcl:#9f45c4', 'hgt:155cm', 'iyr:2020', 'pid:604239618']\n",
      "['byr:1936', 'ecl:blu', 'eyr:2024', 'hcl:#efcc98', 'hgt:190cm', 'iyr:2020', 'pid:560653271']\n",
      "['byr:1964', 'ecl:grn', 'eyr:2021', 'hcl:#efcc98', 'hgt:165cm', 'iyr:2018', 'pid:218376636']\n",
      "['byr:1952', 'ecl:brn', 'eyr:2026', 'hcl:#888785', 'hgt:190cm', 'iyr:2015', 'pid:802832833']\n",
      "['byr:1941', 'ecl:hzl', 'eyr:2020', 'hcl:#a97842', 'hgt:152cm', 'iyr:2017', 'pid:554959609']\n",
      "['byr:1992', 'ecl:oth', 'eyr:2024', 'hcl:#18171d', 'hgt:159cm', 'iyr:2019', 'pid:662111811']\n",
      "['byr:1984', 'ecl:amb', 'eyr:2023', 'hcl:#18171d', 'hgt:187cm', 'iyr:2014', 'pid:523401750']\n",
      "['byr:1957', 'ecl:oth', 'eyr:2021', 'hcl:#602927', 'hgt:157cm', 'iyr:2015', 'pid:340752324']\n",
      "['byr:1968', 'ecl:brn', 'eyr:2030', 'hcl:#341e13', 'hgt:154cm', 'iyr:2019', 'pid:446142864']\n",
      "['byr:1977', 'ecl:oth', 'eyr:2028', 'hcl:#18171d', 'hgt:185cm', 'iyr:2011', 'pid:243811429']\n",
      "['byr:1976', 'ecl:blu', 'eyr:2029', 'hcl:#cfa07d', 'hgt:152cm', 'iyr:2013', 'pid:649877471']\n",
      "['byr:1983', 'ecl:oth', 'eyr:2020', 'hcl:#ceb3a1', 'hgt:173cm', 'iyr:2013', 'pid:134378987']\n",
      "['byr:1964', 'ecl:grn', 'eyr:2028', 'hcl:#b6652a', 'hgt:151cm', 'iyr:2010', 'pid:939492531']\n",
      "['byr:1961', 'ecl:gry', 'eyr:2026', 'hcl:#733820', 'hgt:179cm', 'iyr:2014', 'pid:732892920']\n",
      "['byr:1996', 'ecl:hzl', 'eyr:2021', 'hcl:#866857', 'hgt:155cm', 'iyr:2018', 'pid:944007809']\n",
      "['byr:1989', 'ecl:amb', 'eyr:2025', 'hcl:#b6652a', 'hgt:173cm', 'iyr:2012', 'pid:945869114']\n",
      "['byr:1978', 'ecl:amb', 'eyr:2029', 'hcl:#a97842', 'hgt:176cm', 'iyr:2018', 'pid:937928270']\n",
      "['byr:1998', 'ecl:hzl', 'eyr:2026', 'hcl:#888785', 'hgt:154cm', 'iyr:2013', 'pid:767329807']\n",
      "['byr:1980', 'ecl:amb', 'eyr:2025', 'hcl:#b6652a', 'hgt:155cm', 'iyr:2010', 'pid:338567803']\n",
      "['byr:1940', 'ecl:oth', 'eyr:2030', 'hcl:#efcc98', 'hgt:62in', 'iyr:2017', 'pid:537307591']\n",
      "['byr:1965', 'ecl:gry', 'eyr:2027', 'hcl:#6b5442', 'hgt:75in', 'iyr:2012', 'pid:691913618']\n",
      "['byr:1964', 'ecl:oth', 'eyr:2025', 'hcl:#ceb3a1', 'hgt:163cm', 'iyr:2010', 'pid:936536544']\n",
      "['byr:1983', 'ecl:oth', 'eyr:2030', 'hcl:#7873b3', 'hgt:187cm', 'iyr:2020', 'pid:712946803']\n",
      "['byr:1963', 'ecl:blu', 'eyr:2030', 'hcl:#fffffd', 'hgt:175cm', 'iyr:2010', 'pid:047567505']\n",
      "['byr:1964', 'ecl:hzl', 'eyr:2020', 'hcl:#341e13', 'hgt:171cm', 'iyr:2014', 'pid:223378458']\n",
      "['byr:1943', 'ecl:oth', 'eyr:2024', 'hcl:#623a2f', 'hgt:184cm', 'iyr:2011', 'pid:371604584']\n",
      "['byr:1996', 'ecl:oth', 'eyr:2026', 'hcl:#c0946f', 'hgt:163cm', 'iyr:2015', 'pid:701366586']\n",
      "['byr:1993', 'ecl:blu', 'eyr:2026', 'hcl:#733820', 'hgt:177cm', 'iyr:2018', 'pid:289871693']\n",
      "['byr:1988', 'ecl:gry', 'eyr:2024', 'hcl:#341e13', 'hgt:174cm', 'iyr:2014', 'pid:864852584']\n",
      "['byr:1960', 'ecl:hzl', 'eyr:2022', 'hcl:#efcc98', 'hgt:151cm', 'iyr:2020', 'pid:431242259']\n",
      "['byr:1929', 'ecl:grn', 'eyr:2029', 'hcl:#866857', 'hgt:162cm', 'iyr:2016', 'pid:526060780']\n",
      "['byr:1951', 'ecl:blu', 'eyr:2021', 'hcl:#6b5442', 'hgt:183cm', 'iyr:2015', 'pid:594960553']\n",
      "['byr:1951', 'ecl:amb', 'eyr:2022', 'hcl:#ceb3a1', 'hgt:186cm', 'iyr:2020', 'pid:317661479']\n",
      "['byr:1938', 'ecl:oth', 'eyr:2026', 'hcl:#c0946f', 'hgt:170cm', 'iyr:2018', 'pid:933380459']\n",
      "['byr:1974', 'ecl:gry', 'eyr:2027', 'hcl:#341e13', 'hgt:161cm', 'iyr:2014', 'pid:262927116']\n",
      "['byr:2001', 'ecl:amb', 'eyr:2028', 'hcl:#602927', 'hgt:177cm', 'iyr:2011', 'pid:165733929']\n",
      "['byr:1922', 'ecl:blu', 'eyr:2022', 'hcl:#c25ea9', 'hgt:183cm', 'iyr:2015', 'pid:333716867']\n",
      "['byr:1978', 'ecl:amb', 'eyr:2021', 'hcl:#7d3b0c', 'hgt:159cm', 'iyr:2020', 'pid:938828535']\n",
      "['byr:1953', 'ecl:hzl', 'eyr:2029', 'hcl:#a97842', 'hgt:153cm', 'iyr:2016', 'pid:356632792']\n",
      "['byr:1957', 'ecl:gry', 'eyr:2025', 'hcl:#a97842', 'hgt:65in', 'iyr:2020', 'pid:745727684']\n",
      "['byr:1943', 'ecl:grn', 'eyr:2024', 'hcl:#733820', 'hgt:70in', 'iyr:2019', 'pid:953607814']\n",
      "['byr:1942', 'ecl:gry', 'eyr:2028', 'hcl:#cfa07d', 'hgt:163cm', 'iyr:2019', 'pid:310104177']\n",
      "['byr:1986', 'ecl:blu', 'eyr:2022', 'hcl:#a97842', 'hgt:169cm', 'iyr:2015', 'pid:669007078']\n",
      "['byr:1987', 'ecl:brn', 'eyr:2026', 'hcl:#623a2f', 'hgt:160cm', 'iyr:2017', 'pid:875646528']\n",
      "['byr:1955', 'ecl:blu', 'eyr:2028', 'hcl:#18171d', 'hgt:156cm', 'iyr:2011', 'pid:120131971']\n",
      "['byr:1982', 'ecl:brn', 'eyr:2026', 'hcl:#733820', 'hgt:157cm', 'iyr:2020', 'pid:504067323']\n",
      "['byr:1984', 'ecl:hzl', 'eyr:2028', 'hcl:#733820', 'hgt:177cm', 'iyr:2020', 'pid:542750146']\n",
      "['byr:1999', 'ecl:blu', 'eyr:2026', 'hcl:#733820', 'hgt:175cm', 'iyr:2013', 'pid:419639528']\n",
      "['byr:1963', 'ecl:gry', 'eyr:2020', 'hcl:#cfa07d', 'hgt:180cm', 'iyr:2020', 'pid:683641152']\n",
      "['byr:1963', 'ecl:blu', 'eyr:2025', 'hcl:#cfa07d', 'hgt:192cm', 'iyr:2020', 'pid:156436859']\n",
      "['byr:1992', 'ecl:hzl', 'eyr:2021', 'hcl:#7c5fe8', 'hgt:184cm', 'iyr:2020', 'pid:277739802']\n",
      "['byr:1989', 'ecl:hzl', 'eyr:2022', 'hcl:#888785', 'hgt:76in', 'iyr:2017', 'pid:066973099']\n",
      "['byr:1971', 'ecl:hzl', 'eyr:2030', 'hcl:#866857', 'hgt:71in', 'iyr:2016', 'pid:453816800']\n",
      "['byr:1970', 'ecl:blu', 'eyr:2024', 'hcl:#cfa07d', 'hgt:186cm', 'iyr:2014', 'pid:248573931']\n",
      "['byr:1948', 'ecl:brn', 'eyr:2024', 'hcl:#888785', 'hgt:151cm', 'iyr:2014', 'pid:172567579']\n",
      "['byr:1929', 'ecl:hzl', 'eyr:2026', 'hcl:#c45e93', 'hgt:153cm', 'iyr:2018', 'pid:684760742']\n",
      "['byr:1991', 'ecl:amb', 'eyr:2020', 'hcl:#602927', 'hgt:157cm', 'iyr:2020', 'pid:620634584']\n",
      "['byr:1955', 'ecl:blu', 'eyr:2029', 'hcl:#9bd1f0', 'hgt:190cm', 'iyr:2010', 'pid:507892696']\n",
      "['byr:1920', 'ecl:oth', 'eyr:2022', 'hcl:#623a2f', 'hgt:184cm', 'iyr:2020', 'pid:365539813']\n",
      "['byr:1925', 'ecl:oth', 'eyr:2021', 'hcl:#866857', 'hgt:193cm', 'iyr:2017', 'pid:774859218']\n",
      "['byr:1937', 'ecl:oth', 'eyr:2025', 'hcl:#a97842', 'hgt:189cm', 'iyr:2019', 'pid:787390180']\n",
      "['byr:1956', 'ecl:hzl', 'eyr:2027', 'hcl:#866857', 'hgt:183cm', 'iyr:2019', 'pid:549757712']\n",
      "['byr:1925', 'ecl:blu', 'eyr:2020', 'hcl:#602927', 'hgt:187cm', 'iyr:2017', 'pid:755580715']\n",
      "['byr:1974', 'ecl:amb', 'eyr:2026', 'hcl:#602927', 'hgt:69in', 'iyr:2019', 'pid:951019647']\n",
      "['byr:1945', 'ecl:blu', 'eyr:2030', 'hcl:#7d3b0c', 'hgt:169cm', 'iyr:2013', 'pid:791359040']\n",
      "['byr:1924', 'ecl:hzl', 'eyr:2026', 'hcl:#18171d', 'hgt:152cm', 'iyr:2018', 'pid:534667048']\n",
      "['byr:1981', 'ecl:grn', 'eyr:2029', 'hcl:#cfa07d', 'hgt:164cm', 'iyr:2011', 'pid:933295825']\n",
      "['byr:1964', 'ecl:amb', 'eyr:2028', 'hcl:#866857', 'hgt:171cm', 'iyr:2018', 'pid:014457573']\n",
      "['byr:1974', 'ecl:amb', 'eyr:2028', 'hcl:#623a2f', 'hgt:167cm', 'iyr:2012', 'pid:512315114']\n",
      "['byr:1999', 'ecl:oth', 'eyr:2027', 'hcl:#888785', 'hgt:153cm', 'iyr:2012', 'pid:416990697']\n",
      "['byr:1988', 'ecl:amb', 'eyr:2025', 'hcl:#602927', 'hgt:160cm', 'iyr:2016', 'pid:562766105']\n",
      "['byr:1942', 'ecl:oth', 'eyr:2028', 'hcl:#341e13', 'hgt:159cm', 'iyr:2018', 'pid:564975864']\n",
      "['byr:1981', 'ecl:gry', 'eyr:2026', 'hcl:#733820', 'hgt:170cm', 'iyr:2018', 'pid:406209763']\n",
      "['byr:1925', 'ecl:oth', 'eyr:2024', 'hcl:#7d3b0c', 'hgt:185cm', 'iyr:2020', 'pid:279164109']\n",
      "['byr:1996', 'ecl:hzl', 'eyr:2025', 'hcl:#efcc98', 'hgt:190cm', 'iyr:2020', 'pid:724466265']\n",
      "['byr:1996', 'ecl:grn', 'eyr:2022', 'hcl:#602927', 'hgt:160cm', 'iyr:2014', 'pid:906572505']\n",
      "['byr:1932', 'ecl:hzl', 'eyr:2028', 'hcl:#b6652a', 'hgt:186cm', 'iyr:2016', 'pid:132872161']\n",
      "['byr:1951', 'ecl:brn', 'eyr:2020', 'hcl:#fffffd', 'hgt:188cm', 'iyr:2019', 'pid:842126902']\n",
      "['byr:1977', 'ecl:gry', 'eyr:2023', 'hcl:#602927', 'hgt:158cm', 'iyr:2010', 'pid:681061896']\n",
      "['byr:1970', 'ecl:grn', 'eyr:2027', 'hcl:#888785', 'hgt:192cm', 'iyr:2018', 'pid:164408694']\n",
      "['byr:1943', 'ecl:oth', 'eyr:2029', 'hcl:#341e13', 'hgt:185cm', 'iyr:2010', 'pid:447061655']\n",
      "['byr:1925', 'ecl:brn', 'eyr:2025', 'hcl:#18171d', 'hgt:190cm', 'iyr:2012', 'pid:017534154']\n",
      "['byr:1923', 'ecl:hzl', 'eyr:2026', 'hcl:#c0946f', 'hgt:172cm', 'iyr:2015', 'pid:580812884']\n",
      "['byr:1952', 'ecl:brn', 'eyr:2028', 'hcl:#888785', 'hgt:180cm', 'iyr:2010', 'pid:818889983']\n",
      "['byr:1982', 'ecl:gry', 'eyr:2026', 'hcl:#c0946f', 'hgt:188cm', 'iyr:2011', 'pid:610689703']\n",
      "['byr:1975', 'ecl:amb', 'eyr:2028', 'hcl:#cfa07d', 'hgt:178cm', 'iyr:2018', 'pid:921660781']\n",
      "['byr:1977', 'ecl:oth', 'eyr:2022', 'hcl:#7d3b0c', 'hgt:189cm', 'iyr:2010', 'pid:667631009']\n",
      "['byr:1940', 'ecl:grn', 'eyr:2030', 'hcl:#18171d', 'hgt:152cm', 'iyr:2015', 'pid:310277488']\n",
      "['byr:1965', 'ecl:oth', 'eyr:2030', 'hcl:#733820', 'hgt:192cm', 'iyr:2016', 'pid:240720987']\n",
      "['byr:1930', 'ecl:blu', 'eyr:2025', 'hcl:#b6652a', 'hgt:188cm', 'iyr:2013', 'pid:830487275']\n",
      "['byr:1955', 'ecl:amb', 'eyr:2030', 'hcl:#c0946f', 'hgt:177cm', 'iyr:2016', 'pid:476675886']\n",
      "['byr:1975', 'ecl:blu', 'eyr:2029', 'hcl:#b6652a', 'hgt:161cm', 'iyr:2016', 'pid:152702068']\n",
      "['byr:1945', 'ecl:brn', 'eyr:2025', 'hcl:#6b5442', 'hgt:157cm', 'iyr:2020', 'pid:772739059']\n",
      "['byr:1988', 'ecl:oth', 'eyr:2030', 'hcl:#18171d', 'hgt:170cm', 'iyr:2020', 'pid:214212776']\n",
      "['byr:1946', 'ecl:grn', 'eyr:2025', 'hcl:#a97842', 'hgt:158cm', 'iyr:2020', 'pid:636649774']\n",
      "['byr:1951', 'ecl:blu', 'eyr:2023', 'hcl:#341e13', 'hgt:161cm', 'iyr:2020', 'pid:461889565']\n",
      "['byr:1980', 'ecl:hzl', 'eyr:2029', 'hcl:#cfa07d', 'hgt:168cm', 'iyr:2013', 'pid:492241189']\n",
      "['byr:1998', 'ecl:gry', 'eyr:2024', 'hcl:#733820', 'hgt:150cm', 'iyr:2016', 'pid:401735295']\n",
      "['byr:2001', 'ecl:hzl', 'eyr:2025', 'hcl:#a97842', 'hgt:184cm', 'iyr:2018', 'pid:453480077']\n"
     ]
    },
    {
     "data": {
      "text/plain": [
       "225"
      ]
     },
     "execution_count": 134,
     "metadata": {},
     "output_type": "execute_result"
    }
   ],
   "source": [
    "import re\n",
    "fields = ['byr','ecl','eyr','hcl','hgt','iyr','pid']\n",
    "regex = ['\\d{4}','(amb|blu|brn|gry|grn|hzl|oth)','\\d{4}','#[0-9a-f]{6}','\\d+[cm|in]','\\d{4}','\\d{9}']\n",
    "# value = {'byr':{1920,2002},'iyr':{2010,2020},'eyr':{2020,2030}'cm':{150,193},'in':{59,76}} \n",
    "\n",
    "count = 0\n",
    "for item in input_puzzle:\n",
    "    if all(field in item for field in fields):\n",
    "        items = sorted(re.split('\\n| ',item))\n",
    "        items = [x for x in items if not 'cid' in x]\n",
    "        if all([re.search(regex[i],items[i]) for i in range(len(items))]):\n",
    "            if 1920 <= int(items[0][4:]) <= 2002:\n",
    "                if 2010 <= int(items[5][4:]) <= 2020:\n",
    "                    if 2020 <= int(items[2][4:]) <= 2030:\n",
    "                        if (items[4][-2:] == 'cm' and 150 <= int(items[4][4:-2]) <= 193) or (items[4][-2:] == 'in' and 59 <= int(items[4][4:-2]) <= 76):\n",
    "                            print(items)\n",
    "                            count += 1\n",
    "            \n",
    "count\n",
    "\n"
   ]
  },
  {
   "cell_type": "code",
   "execution_count": 102,
   "metadata": {},
   "outputs": [
    {
     "data": {
      "text/plain": [
       "True"
      ]
     },
     "execution_count": 102,
     "metadata": {},
     "output_type": "execute_result"
    }
   ],
   "source": [
    "regex = ['\\d{4}','(amb|blu|brn|gry|grn|hzl|oth)','\\\\d{4}','#[0-9a-f]{6}','\\\\d+[cm|in]','\\\\d{4}','\\\\d{9}']\n",
    "\n",
    "item = input_puzzle[0]\n",
    "items = sorted(re.split('\\n| ',item))\n",
    "items.remove('cid:189')\n",
    "items\n",
    "\n",
    "all([re.search(regex[i],items[i]) for i in range(len(items))])\n",
    "# [[regex[i],items[i]] for i in range(len(items))]"
   ]
  },
  {
   "cell_type": "code",
   "execution_count": 115,
   "metadata": {},
   "outputs": [
    {
     "data": {
      "text/plain": [
       "['hello', ' ', 'world', ' ']"
      ]
     },
     "execution_count": 115,
     "metadata": {},
     "output_type": "execute_result"
    }
   ],
   "source": [
    "items = ['hello', '', ' ', 'world', ' ']\n",
    "# items = filter(None, items)\n",
    "[x for x in items if x]"
   ]
  },
  {
   "cell_type": "code",
   "execution_count": 196,
   "metadata": {},
   "outputs": [
    {
     "ename": "NameError",
     "evalue": "name 'close' is not defined",
     "output_type": "error",
     "traceback": [
      "\u001b[1;31m---------------------------------------------------------------------------\u001b[0m",
      "\u001b[1;31mNameError\u001b[0m                                 Traceback (most recent call last)",
      "\u001b[1;32m<ipython-input-196-e4e93fc43b8b>\u001b[0m in \u001b[0;36m<module>\u001b[1;34m\u001b[0m\n\u001b[1;32m----> 1\u001b[1;33m \u001b[0mclose\u001b[0m\u001b[1;33m(\u001b[0m\u001b[1;34m\"day4_invalid.txt\"\u001b[0m\u001b[1;33m)\u001b[0m\u001b[1;33m\u001b[0m\u001b[1;33m\u001b[0m\u001b[0m\n\u001b[0m",
      "\u001b[1;31mNameError\u001b[0m: name 'close' is not defined"
     ]
    }
   ],
   "source": [
    "close(\"day4_invalid.txt\")"
   ]
  }
 ],
 "metadata": {
  "kernelspec": {
   "display_name": "Python (myenv)",
   "language": "python",
   "name": "myenv"
  },
  "language_info": {
   "codemirror_mode": {
    "name": "ipython",
    "version": 3
   },
   "file_extension": ".py",
   "mimetype": "text/x-python",
   "name": "python",
   "nbconvert_exporter": "python",
   "pygments_lexer": "ipython3",
   "version": "3.8.5"
  }
 },
 "nbformat": 4,
 "nbformat_minor": 4
}
