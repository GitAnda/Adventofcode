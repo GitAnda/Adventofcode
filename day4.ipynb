{
 "cells": [
  {
   "cell_type": "code",
   "execution_count": 5,
   "metadata": {},
   "outputs": [
    {
     "data": {
      "text/plain": [
       "['iyr:2015 cid:189 ecl:oth byr:1947 hcl:#6c4ab1 eyr:2026\\nhgt:174cm\\npid:526744288',\n",
       " 'pid:688706448 iyr:2017 hgt:162cm cid:174 ecl:grn byr:1943 hcl:#808e9e eyr:2025',\n",
       " 'ecl:oth hcl:#733820 cid:124 pid:111220591\\niyr:2019 eyr:2001\\nbyr:1933 hgt:159in',\n",
       " 'pid:812929897 hgt:159cm hcl:#fffffd byr:1942 iyr:2026 cid:291\\necl:oth\\neyr:2024',\n",
       " 'cid:83 pid:524032739 iyr:2013 ecl:amb byr:1974\\nhgt:191cm hcl:#ceb3a1 eyr:2028']"
      ]
     },
     "execution_count": 5,
     "metadata": {},
     "output_type": "execute_result"
    }
   ],
   "source": [
    "f = open(\"day4.txt\", \"r\")\n",
    "input_puzzle = f.read()\n",
    "input_puzzle = input_puzzle.split('\\n\\n')\n",
    "input_puzzle[0:5]"
   ]
  },
  {
   "cell_type": "code",
   "execution_count": 6,
   "metadata": {},
   "outputs": [
    {
     "data": {
      "text/plain": [
       "264"
      ]
     },
     "execution_count": 6,
     "metadata": {},
     "output_type": "execute_result"
    }
   ],
   "source": [
    "fields = ['byr:','ecl:','eyr:','hcl:','hgt:','iyr:','pid:']\n",
    "\n",
    "count = 0\n",
    "for item in input_puzzle:\n",
    "    if all(field in item for field in fields):\n",
    "        count += 1\n",
    "        \n",
    "count"
   ]
  },
  {
   "cell_type": "code",
   "execution_count": 19,
   "metadata": {},
   "outputs": [
    {
     "data": {
      "text/plain": [
       "224"
      ]
     },
     "execution_count": 19,
     "metadata": {},
     "output_type": "execute_result"
    }
   ],
   "source": [
    "import re\n",
    "fields = ['byr:','ecl:','eyr:','hcl:','hgt:','iyr:','pid:']\n",
    "regex = ['^byr:\\d{4}$','^ecl:(amb|blu|brn|gry|grn|hzl|oth)$','^eyr:\\d{4}$','^hcl:#[0-9a-f]{6}$','^hgt:\\d+(cm|in)$','^iyr:\\d{4}$','^pid:\\d{9}$']\n",
    "# value = {'byr':{1920,2002},'iyr':{2010,2020},'eyr':{2020,2030}'cm':{150,193},'in':{59,76}} \n",
    "\n",
    "count = 0\n",
    "for item in input_puzzle:\n",
    "    items = sorted(re.split('\\n| ',item))\n",
    "    if all(field in item for field in fields):\n",
    "        items = [x for x in items if not 'cid' in x]\n",
    "        if all([re.search(regex[i],items[i]) for i in range(len(items))]):\n",
    "            if 1920 <= int(items[0][4:]) <= 2002:\n",
    "                if 2010 <= int(items[5][4:]) <= 2020:\n",
    "                    if 2020 <= int(items[2][4:]) <= 2030:\n",
    "                        if (items[4][-2:] == 'cm' and 150 <= int(items[4][4:-2]) <= 193) or (items[4][-2:] == 'in' and 59 <= int(items[4][4:-2]) <= 76):\n",
    "#                             print(items)\n",
    "                            count += 1\n",
    "\n",
    "count  "
   ]
  },
  {
   "cell_type": "code",
   "execution_count": null,
   "metadata": {},
   "outputs": [],
   "source": [
    "\n",
    "\n"
   ]
  },
  {
   "cell_type": "code",
   "execution_count": null,
   "metadata": {},
   "outputs": [],
   "source": []
  },
  {
   "cell_type": "code",
   "execution_count": null,
   "metadata": {},
   "outputs": [],
   "source": []
  },
  {
   "cell_type": "code",
   "execution_count": null,
   "metadata": {},
   "outputs": [],
   "source": []
  }
 ],
 "metadata": {
  "kernelspec": {
   "display_name": "Python (myenv)",
   "language": "python",
   "name": "myenv"
  },
  "language_info": {
   "codemirror_mode": {
    "name": "ipython",
    "version": 3
   },
   "file_extension": ".py",
   "mimetype": "text/x-python",
   "name": "python",
   "nbconvert_exporter": "python",
   "pygments_lexer": "ipython3",
   "version": "3.8.5"
  }
 },
 "nbformat": 4,
 "nbformat_minor": 4
}
