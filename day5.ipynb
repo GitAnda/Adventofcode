{
 "cells": [
  {
   "cell_type": "code",
   "execution_count": 4,
   "metadata": {},
   "outputs": [
    {
     "data": {
      "text/plain": [
       "['BFBFFBBRLR', 'FBFBFFBRLL', 'BFBFBFFRLR', 'BFFBFBFRLL', 'FFBFFFBRLL']"
      ]
     },
     "execution_count": 4,
     "metadata": {},
     "output_type": "execute_result"
    }
   ],
   "source": [
    "f = open(\"day5.txt\", \"r\")\n",
    "input_puzzle = f.read()\n",
    "input_puzzle = input_puzzle.split('\\n')\n",
    "input_puzzle[0:5]"
   ]
  },
  {
   "cell_type": "code",
   "execution_count": 20,
   "metadata": {},
   "outputs": [
    {
     "data": {
      "text/plain": [
       "826"
      ]
     },
     "execution_count": 20,
     "metadata": {},
     "output_type": "execute_result"
    }
   ],
   "source": [
    "max_ID = 0\n",
    "\n",
    "for item in input_puzzle:\n",
    "    row = sum([2**(6-i) for i in range(7) if item[i] == \"B\"])\n",
    "    seat = sum([2**(2-i) for i in range(3) if item[i+7] == \"R\"])\n",
    "    \n",
    "    if row*8 + seat > max_ID:\n",
    "        max_ID = row*8 + seat\n",
    "    \n",
    "max_ID"
   ]
  },
  {
   "cell_type": "code",
   "execution_count": 26,
   "metadata": {},
   "outputs": [
    {
     "name": "stdout",
     "output_type": "stream",
     "text": [
      "678\n"
     ]
    }
   ],
   "source": [
    "seat_ID = []\n",
    "\n",
    "for item in input_puzzle:\n",
    "    row = sum([2**(6-i) for i in range(7) if item[i] == \"B\"])\n",
    "    seat = sum([2**(2-i) for i in range(3) if item[i+7] == \"R\"])\n",
    "    \n",
    "    seat_ID.append(row*8 + seat)\n",
    "    \n",
    "seat_ID.sort()\n",
    "\n",
    "for i in range(seat_ID[0],seat_ID[-1]):\n",
    "    if not(i in seat_ID):\n",
    "        print(i)"
   ]
  }
 ],
 "metadata": {
  "kernelspec": {
   "display_name": "Python (myenv)",
   "language": "python",
   "name": "myenv"
  },
  "language_info": {
   "codemirror_mode": {
    "name": "ipython",
    "version": 3
   },
   "file_extension": ".py",
   "mimetype": "text/x-python",
   "name": "python",
   "nbconvert_exporter": "python",
   "pygments_lexer": "ipython3",
   "version": "3.8.5"
  }
 },
 "nbformat": 4,
 "nbformat_minor": 4
}
