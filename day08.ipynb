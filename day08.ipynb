{
 "cells": [
  {
   "cell_type": "code",
   "execution_count": 51,
   "metadata": {},
   "outputs": [
    {
     "data": {
      "text/plain": [
       "['acc +40', 'acc -14', 'nop +386', 'jmp +262', 'acc -4']"
      ]
     },
     "execution_count": 51,
     "metadata": {},
     "output_type": "execute_result"
    }
   ],
   "source": [
    "f = open('day8.txt', 'r')\n",
    "input_puzzle = f.read()\n",
    "input_puzzle = input_puzzle.split(\"\\n\")\n",
    "input_puzzle[0:5]"
   ]
  },
  {
   "cell_type": "code",
   "execution_count": 35,
   "metadata": {},
   "outputs": [
    {
     "data": {
      "text/plain": [
       "1727"
      ]
     },
     "execution_count": 35,
     "metadata": {},
     "output_type": "execute_result"
    }
   ],
   "source": [
    "indices = []\n",
    "idx = 0\n",
    "acc = 0\n",
    "\n",
    "while not(idx in indices):\n",
    "    item = input_puzzle[idx]\n",
    "    indices.append(idx)\n",
    "    if (item[0:3] == 'acc'):\n",
    "        acc += int(item[4:])\n",
    "        idx += 1\n",
    "    elif (item[0:3] == 'jmp'):\n",
    "        idx += int(item[4:])\n",
    "    else:\n",
    "        idx += 1\n",
    "\n",
    "acc"
   ]
  },
  {
   "cell_type": "code",
   "execution_count": 27,
   "metadata": {},
   "outputs": [],
   "source": [
    "def check_infinite_loop(code):\n",
    "    indices = []\n",
    "    idx = 0\n",
    "    acc = 0\n",
    "    finished = False\n",
    "\n",
    "    while not(idx in indices):\n",
    "        if (idx == len(code)):\n",
    "            return acc, True\n",
    "        \n",
    "        item = input_puzzle[idx]\n",
    "        indices.append(idx)\n",
    "        if (item[0:3] == 'acc'):\n",
    "            acc += int(item[4:])\n",
    "            idx += 1\n",
    "        elif (item[0:3] == 'jmp'):\n",
    "            idx += int(item[4:])\n",
    "        else:\n",
    "            idx += 1\n",
    "\n",
    "    return acc, finished"
   ]
  },
  {
   "cell_type": "code",
   "execution_count": 58,
   "metadata": {},
   "outputs": [
    {
     "name": "stdout",
     "output_type": "stream",
     "text": [
      "line:  430    acc:  552\n"
     ]
    }
   ],
   "source": [
    "import copy\n",
    "\n",
    "for i in range(len(input_puzzle)):\n",
    "    input_copy = copy.deepcopy(input_puzzle)\n",
    "\n",
    "    item = input_copy[i]\n",
    "\n",
    "    if (item[0:3] == 'jmp'):\n",
    "        input_copy[i] = item.replace('jmp','nop')\n",
    "        acc, finished = check_infinite_loop(input_copy)\n",
    "    elif (item[0:3] == 'nop'):\n",
    "        input_copy[i] = item.replace('nop','jmp')\n",
    "        acc, finished = check_infinite_loop(input_copy)\n",
    "\n",
    "    if finished:\n",
    "        print('line: ', i, '   acc: ', acc)\n",
    "        break\n"
   ]
  }
 ],
 "metadata": {
  "kernelspec": {
   "display_name": "Python (myenv)",
   "language": "python",
   "name": "myenv"
  },
  "language_info": {
   "codemirror_mode": {
    "name": "ipython",
    "version": 3
   },
   "file_extension": ".py",
   "mimetype": "text/x-python",
   "name": "python",
   "nbconvert_exporter": "python",
   "pygments_lexer": "ipython3",
   "version": "3.8.5"
  }
 },
 "nbformat": 4,
 "nbformat_minor": 4
}
