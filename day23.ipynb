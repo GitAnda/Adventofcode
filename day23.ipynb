{
 "cells": [
  {
   "cell_type": "code",
   "execution_count": 6,
   "metadata": {},
   "outputs": [
    {
     "name": "stdout",
     "output_type": "stream",
     "text": [
      "[5, 9, 3, 4, 1, 2, 7, 8, 6]\n"
     ]
    },
    {
     "data": {
      "text/plain": [
       "'27865934'"
      ]
     },
     "execution_count": 6,
     "metadata": {},
     "output_type": "execute_result"
    }
   ],
   "source": [
    "start_label = [int(x) for x in '872495136']\n",
    "\n",
    "def rotate_list(l, n):\n",
    "    return l[n:] + l[:n] \n",
    "\n",
    "def get_score(clock):\n",
    "    clock = [str(x) for x in clock]\n",
    "    idx = clock.index('1')\n",
    "    return ''.join(clock[idx+1:] + clock[:idx])\n",
    "\n",
    "def do_round(clock):\n",
    "    current = clock[0]\n",
    "#     print('current:', current)\n",
    "    \n",
    "    removed_cups = clock[1:4]\n",
    "    left_cups = clock[:1] + clock[4:]\n",
    "#     print('removed:', removed_cups)\n",
    "#     print('left:', left_cups)\n",
    "    \n",
    "    destination = current - 1\n",
    "    while not(destination in left_cups):\n",
    "        destination = (destination - 1)%10\n",
    "    \n",
    "#     print('destination:', destination)\n",
    "    \n",
    "    idx = left_cups.index(destination)\n",
    "    new_clock = list(left_cups[0:idx+1]) + removed_cups + list(left_cups[idx+1:])\n",
    "    return rotate_list(new_clock,1)\n",
    "\n",
    "def play_game(clock, iterations):\n",
    "    for i in range(iterations):\n",
    "#         print('\\n')\n",
    "#         print(i, rotate_list(clock, (9-i)%9))\n",
    "        clock = do_round(clock)\n",
    "    \n",
    "    print(rotate_list(clock, (9-iterations)%9))\n",
    "    return get_score(clock)\n",
    "\n",
    "\n",
    "play_game(start_label, 100)"
   ]
  }
 ],
 "metadata": {
  "kernelspec": {
   "display_name": "Python (myenv)",
   "language": "python",
   "name": "myenv"
  },
  "language_info": {
   "codemirror_mode": {
    "name": "ipython",
    "version": 3
   },
   "file_extension": ".py",
   "mimetype": "text/x-python",
   "name": "python",
   "nbconvert_exporter": "python",
   "pygments_lexer": "ipython3",
   "version": "3.8.5"
  }
 },
 "nbformat": 4,
 "nbformat_minor": 4
}
