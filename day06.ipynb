{
 "cells": [
  {
   "cell_type": "code",
   "execution_count": 2,
   "metadata": {},
   "outputs": [
    {
     "data": {
      "text/plain": [
       "['xtpmjeuayzkflcdo\\nzdaeyxlpftkmojc',\n",
       " 'ifnkhzalvprjtyus\\nlmihuzrytjns\\nuilmsotygbnhrzj\\nuwslqctjnirzxhy',\n",
       " 'lhuydwqxaempbisrnfcjtvz\\nrvtcegbhljadfpxzsiuyqwnm\\nrzyvtefjdsplucmqbinahxw',\n",
       " 'whlxgytuoaidpfrsbvmkjqez\\niwfghlytovbpdemzanjq\\nmpejclwhqziatybogvdf',\n",
       " 'qsmuehbvfiwlkx\\ngtmdsbrqfwhk']"
      ]
     },
     "execution_count": 2,
     "metadata": {},
     "output_type": "execute_result"
    }
   ],
   "source": [
    "f = open('day6.txt', 'r')\n",
    "input_puzzle = f.read()\n",
    "input_puzzle = input_puzzle.split(\"\\n\\n\")\n",
    "input_puzzle[0:5]"
   ]
  },
  {
   "cell_type": "code",
   "execution_count": 68,
   "metadata": {},
   "outputs": [
    {
     "data": {
      "text/plain": [
       "6878"
      ]
     },
     "execution_count": 68,
     "metadata": {},
     "output_type": "execute_result"
    }
   ],
   "source": [
    "input_puzzle = [x.replace('\\n', '') for x in input_puzzle]\n",
    "unique = [''.join(sorted(list(set(x)))) for x in input_puzzle]\n",
    "counts = [len(x) for x in unique]\n",
    "sum(counts)"
   ]
  },
  {
   "cell_type": "code",
   "execution_count": 3,
   "metadata": {},
   "outputs": [
    {
     "data": {
      "text/plain": [
       "3464"
      ]
     },
     "execution_count": 3,
     "metadata": {},
     "output_type": "execute_result"
    }
   ],
   "source": [
    "sum_intersect = 0\n",
    "count = 0\n",
    "\n",
    "for item in input_puzzle:\n",
    "    items = item.split('\\n')\n",
    "    intersect = set('abcdefghijklmnopqrstuvwxyz')\n",
    "    \n",
    "    for element in items:\n",
    "        element = set(element)\n",
    "        intersect = intersect.intersection(element)\n",
    "        \n",
    "#     print(count, ''.join(sorted(list(intersect))), len(intersect))\n",
    "    sum_intersect += len(intersect)\n",
    "    count += 1\n",
    "        \n",
    "sum_intersect"
   ]
  }
 ],
 "metadata": {
  "kernelspec": {
   "display_name": "Python (myenv)",
   "language": "python",
   "name": "myenv"
  },
  "language_info": {
   "codemirror_mode": {
    "name": "ipython",
    "version": 3
   },
   "file_extension": ".py",
   "mimetype": "text/x-python",
   "name": "python",
   "nbconvert_exporter": "python",
   "pygments_lexer": "ipython3",
   "version": "3.8.5"
  }
 },
 "nbformat": 4,
 "nbformat_minor": 4
}
