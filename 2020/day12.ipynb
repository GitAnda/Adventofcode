{
 "cells": [
  {
   "cell_type": "code",
   "execution_count": 77,
   "metadata": {},
   "outputs": [
    {
     "data": {
      "text/plain": [
       "['F75', 'L90', 'N5', 'W2', 'N5']"
      ]
     },
     "execution_count": 77,
     "metadata": {},
     "output_type": "execute_result"
    }
   ],
   "source": [
    "f = open('day12.txt', 'r')\n",
    "input_puzzle = f.read().split('\\n')\n",
    "input_puzzle[0:5]"
   ]
  },
  {
   "cell_type": "code",
   "execution_count": 70,
   "metadata": {},
   "outputs": [
    {
     "name": "stdout",
     "output_type": "stream",
     "text": [
      "2879\n"
     ]
    }
   ],
   "source": [
    "import numpy as np\n",
    "\n",
    "pos = np.array([0,0]) #-123,-11\n",
    "direct = np.array([1,0])\n",
    "\n",
    "def rotate(ang, direction):\n",
    "    rot = np.array([[np.cos(ang*np.pi/180), -np.sin(ang*np.pi/180)], [np.sin(ang*np.pi/180), np.cos(ang*np.pi/180)]])\n",
    "    return rot.dot(direction)\n",
    "\n",
    "for x in input_puzzle:\n",
    "#     print(x)\n",
    "    number = int(x[1:])\n",
    "    if x[0] == 'R':\n",
    "        direct = np.array([int(round(x,0)) for x in rotate(-number,np.array(direct))])\n",
    "    elif x[0] == 'L':\n",
    "        direct = np.array([int(round(x,0)) for x in rotate(number,np.array(direct))])\n",
    "    elif x[0] == 'F':\n",
    "        pos += direct*number\n",
    "    elif x[0] == 'N':\n",
    "        pos += [0,number]\n",
    "    elif x[0] == 'E':\n",
    "        pos += [number,0]\n",
    "    elif x[0] == 'S':\n",
    "        pos += [0,-number]\n",
    "    elif x[0] == 'W':\n",
    "        pos += [-number,0]\n",
    "#     print(pos, direct)\n",
    "            \n",
    "print(abs(pos[0])+abs(pos[1]))"
   ]
  },
  {
   "cell_type": "code",
   "execution_count": 87,
   "metadata": {},
   "outputs": [
    {
     "name": "stdout",
     "output_type": "stream",
     "text": [
      "178986\n"
     ]
    }
   ],
   "source": [
    "import numpy as np\n",
    "\n",
    "pos_ship = np.array([0,0])\n",
    "pos_way = np.array([10,1])\n",
    "\n",
    "def rotate(ang, direction):\n",
    "    rot = np.array([[np.cos(ang*np.pi/180), -np.sin(ang*np.pi/180)], [np.sin(ang*np.pi/180), np.cos(ang*np.pi/180)]])\n",
    "    return rot.dot(direction)\n",
    "\n",
    "for x in input_puzzle:\n",
    "#     print(x)\n",
    "    number = int(x[1:])\n",
    "    if x[0] == 'R':\n",
    "        pos_way = np.array([int(round(x,0)) for x in rotate(-number,np.array(pos_way))])\n",
    "    elif x[0] == 'L':\n",
    "        pos_way = np.array([int(round(x,0)) for x in rotate(number,np.array(pos_way))])\n",
    "    elif x[0] == 'F':\n",
    "        pos_ship += pos_way*number\n",
    "    elif x[0] == 'N':\n",
    "        pos_way += [0,number]\n",
    "    elif x[0] == 'E':\n",
    "        pos_way += [number,0]\n",
    "    elif x[0] == 'S':\n",
    "        pos_way += [0,-number]\n",
    "    elif x[0] == 'W':\n",
    "        pos_way += [-number,0]\n",
    "#     print(pos_way, pos_ship)\n",
    "            \n",
    "print(abs(pos_ship[0])+abs(pos_ship[1]))"
   ]
  }
 ],
 "metadata": {
  "kernelspec": {
   "display_name": "Python (myenv)",
   "language": "python",
   "name": "myenv"
  },
  "language_info": {
   "codemirror_mode": {
    "name": "ipython",
    "version": 3
   },
   "file_extension": ".py",
   "mimetype": "text/x-python",
   "name": "python",
   "nbconvert_exporter": "python",
   "pygments_lexer": "ipython3",
   "version": "3.8.5"
  }
 },
 "nbformat": 4,
 "nbformat_minor": 4
}
