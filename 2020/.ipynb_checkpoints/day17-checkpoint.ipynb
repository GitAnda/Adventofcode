{
 "cells": [
  {
   "cell_type": "code",
   "execution_count": 200,
   "metadata": {},
   "outputs": [
    {
     "data": {
      "text/plain": [
       "array([[[0, 1, 0],\n",
       "        [0, 0, 1],\n",
       "        [1, 1, 1]]])"
      ]
     },
     "execution_count": 200,
     "metadata": {},
     "output_type": "execute_result"
    }
   ],
   "source": [
    "f = open('day17.txt')\n",
    "input_puzzle = [list(x) for x in f.read().replace('.', '0').replace('#', '1').split('\\n')]\n",
    "input_puzzle = np.array([[[int(x) for x in row] for row in input_puzzle]])\n",
    "input_puzzle"
   ]
  },
  {
   "cell_type": "code",
   "execution_count": 171,
   "metadata": {},
   "outputs": [],
   "source": [
    "import numpy as np\n",
    "\n",
    "def extend_space(state):\n",
    "    x = len(state[0])\n",
    "    z = len(state)\n",
    "\n",
    "    extended_state = np.concatenate((np.zeros((z,1,x)), state, np.zeros((z,1,x))), axis = 1)\n",
    "    extended_state = np.concatenate((np.zeros((z,x+2,1)), extended_state, np.zeros((z,x+2,1))), axis = 2)\n",
    "    extended_state = np.concatenate((np.zeros((1,x+2,x+2)), extended_state, np.zeros((1,x+2,x+2))), axis = 0)\n",
    "    return extended_state\n",
    "\n",
    "def simulate_cycle(state):\n",
    "    x = len(state[0])\n",
    "    z = len(state)\n",
    "    \n",
    "    new_state = np.zeros((z+2,x+2,x+2))\n",
    "    old_state = extend_space(state)\n",
    "    \n",
    "    for k in range(1,z+1):\n",
    "        for i in range(1,x+1):\n",
    "            for j in range(1,x+1):\n",
    "                active = int(np.sum(old_state[k-1:k+2,i-1:i+2,j-1:j+2]))\n",
    "                if old_state[k][i][j] == 1:\n",
    "                    active -= 1\n",
    "                if active == 3 or (old_state[k][i][j] == 1 and active == 2):\n",
    "                    new_state[k][i][j] = 1\n",
    "                    \n",
    "    return new_state\n",
    "\n",
    "def simulate_n_cycles(n, state):\n",
    "    state = extend_space(state)\n",
    "    for _ in range(n):\n",
    "        state = simulate_cycle(state)\n",
    "    \n",
    "    return state\n",
    "\n",
    "int(np.sum(simulate_n_cycles(6,input_puzzle)))"
   ]
  },
  {
   "cell_type": "code",
   "execution_count": 207,
   "metadata": {},
   "outputs": [
    {
     "name": "stdout",
     "output_type": "stream",
     "text": [
      "6\n",
      "6\n",
      "6\n",
      "6\n",
      "6\n",
      "6\n"
     ]
    },
    {
     "data": {
      "text/plain": [
       "848"
      ]
     },
     "execution_count": 207,
     "metadata": {},
     "output_type": "execute_result"
    }
   ],
   "source": [
    "import numpy as np\n",
    "\n",
    "def extend_space(state):\n",
    "    x = len(state[0][0])\n",
    "    z = len(state)\n",
    "\n",
    "    extended_state = np.concatenate((np.zeros((z,z,1,x)), state, np.zeros((z,z,1,x))), axis = 2)\n",
    "    extended_state = np.concatenate((np.zeros((z,z,x+2,1)), extended_state, np.zeros((z,z,x+2,1))), axis = 3)\n",
    "    extended_state = np.concatenate((np.zeros((1,z,x+2,x+2)), extended_state, np.zeros((1,z,x+2,x+2))), axis = 0)\n",
    "    extended_state = np.concatenate((np.zeros((z+2,1,x+2,x+2)), extended_state, np.zeros((z+2,1,x+2,x+2))), axis = 1)\n",
    "    return extended_state\n",
    "\n",
    "def simulate_cycle(state):\n",
    "    x = len(state[0][0])\n",
    "    z = len(state)\n",
    "    \n",
    "    new_state = np.zeros((z+2,z+2,x+2,x+2))\n",
    "    old_state = extend_space(state)\n",
    "    \n",
    "    for k in range(1,z+1):\n",
    "        for l in range(1,z+1):\n",
    "            for i in range(1,x+1):\n",
    "                for j in range(1,x+1):\n",
    "                    active = int(np.sum(old_state[k-1:k+2,l-1:l+2,i-1:i+2,j-1:j+2]))\n",
    "                    if old_state[k][l][i][j] == 1:\n",
    "                        active -= 1\n",
    "                    if active == 3 or (old_state[k][l][i][j] == 1 and active == 2):\n",
    "                        new_state[k][l][i][j] = 1\n",
    "                    \n",
    "    return new_state\n",
    "\n",
    "def simulate_n_cycles(n, state):\n",
    "    state = extend_space(state)\n",
    "    for _ in range(n):\n",
    "        print(n)\n",
    "        state = simulate_cycle(state)\n",
    "    \n",
    "    return state\n",
    "\n",
    "state = np.array([input_puzzle])\n",
    "int(np.sum(simulate_n_cycles(6,state)))"
   ]
  },
  {
   "cell_type": "code",
   "execution_count": null,
   "metadata": {},
   "outputs": [],
   "source": []
  },
  {
   "cell_type": "code",
   "execution_count": null,
   "metadata": {},
   "outputs": [],
   "source": []
  }
 ],
 "metadata": {
  "kernelspec": {
   "display_name": "Python (myenv)",
   "language": "python",
   "name": "myenv"
  },
  "language_info": {
   "codemirror_mode": {
    "name": "ipython",
    "version": 3
   },
   "file_extension": ".py",
   "mimetype": "text/x-python",
   "name": "python",
   "nbconvert_exporter": "python",
   "pygments_lexer": "ipython3",
   "version": "3.8.5"
  }
 },
 "nbformat": 4,
 "nbformat_minor": 4
}
