{
 "cells": [
  {
   "cell_type": "code",
   "execution_count": 3,
   "metadata": {},
   "outputs": [
    {
     "data": {
      "text/plain": [
       "['mask = 0XX1XXX1101X101100101001010X1X110000',\n",
       " 'mem[41476] = 14032',\n",
       " 'mem[20538] = 23975525',\n",
       " 'mem[44025] = 8902467',\n",
       " 'mem[23416] = 13278193']"
      ]
     },
     "execution_count": 3,
     "metadata": {},
     "output_type": "execute_result"
    }
   ],
   "source": [
    "f = open('day14.txt', 'r')\n",
    "input_puzzle = f.read().split('\\n')\n",
    "input_puzzle[0:5]"
   ]
  },
  {
   "cell_type": "code",
   "execution_count": 30,
   "metadata": {},
   "outputs": [
    {
     "data": {
      "text/plain": [
       "9879607673316"
      ]
     },
     "execution_count": 30,
     "metadata": {},
     "output_type": "execute_result"
    }
   ],
   "source": [
    "def tobit(number):\n",
    "    return '{0:036b}'.format(number)\n",
    "\n",
    "def tonumber(bit):\n",
    "    return int(bit,2)\n",
    "\n",
    "def applymask(bit, mask):\n",
    "    masked_bit = list(bit)\n",
    "    for i in range(len(mask)):\n",
    "        if mask[i] != 'X':\n",
    "            masked_bit[i] = mask[i]\n",
    "            \n",
    "    return ''.join(masked_bit)\n",
    "\n",
    "result = {}\n",
    "mask = 0\n",
    "for item in input_puzzle:\n",
    "    if item[0:4] == 'mask':\n",
    "        mask = item[7:]\n",
    "    else:\n",
    "        items = item.split(' ')\n",
    "        mem = int(items[0][4:-1])\n",
    "        value = int(items[2])\n",
    "        result[mem] = tonumber(applymask(tobit(value), mask))\n",
    "        \n",
    "sum(result.values())"
   ]
  },
  {
   "cell_type": "code",
   "execution_count": 15,
   "metadata": {},
   "outputs": [
    {
     "data": {
      "text/plain": [
       "3435342392262"
      ]
     },
     "execution_count": 15,
     "metadata": {},
     "output_type": "execute_result"
    }
   ],
   "source": [
    "from itertools import product\n",
    "\n",
    "def tobit(number):\n",
    "    return '{0:036b}'.format(number)\n",
    "\n",
    "def tonumber(bit):\n",
    "    return int(bit,2)\n",
    "\n",
    "def applymask(bit, mask):\n",
    "    masked_bit = list(bit)\n",
    "    for i in range(len(mask)):\n",
    "        if mask[i] != '0':\n",
    "            masked_bit[i] = mask[i]\n",
    "            \n",
    "    return ''.join(masked_bit)\n",
    "\n",
    "def getmemorylocations(masked_bit):\n",
    "    num = masked_bit.count('X')\n",
    "    combinations = list(product(range(2), repeat=num))\n",
    "    indices = [i for i,x in enumerate(masked_bit) if x == \"X\"]\n",
    "    \n",
    "    bits = []\n",
    "    for item in combinations:\n",
    "        bit = list(masked_bit)\n",
    "        item = list(item)\n",
    "        for i in indices:\n",
    "            bit[i] = str(item[0])\n",
    "            item = item[1:]\n",
    "        bits.append(''.join(bit))\n",
    "    \n",
    "    return bits\n",
    "\n",
    "result = {}\n",
    "mask = 0\n",
    "for item in input_puzzle:\n",
    "    if item[0:4] == 'mask':\n",
    "        mask = item[7:]\n",
    "    else:\n",
    "        items = item.split(' ')\n",
    "        mem = int(items[0][4:-1])\n",
    "        value = int(items[2])\n",
    "        masked_mem = applymask(tobit(mem), mask)\n",
    "        locations = getmemorylocations(masked_mem)\n",
    "        for location in locations:\n",
    "            result[tonumber(location)] = value\n",
    "        \n",
    "sum(result.values())"
   ]
  }
 ],
 "metadata": {
  "kernelspec": {
   "display_name": "Python (myenv)",
   "language": "python",
   "name": "myenv"
  },
  "language_info": {
   "codemirror_mode": {
    "name": "ipython",
    "version": 3
   },
   "file_extension": ".py",
   "mimetype": "text/x-python",
   "name": "python",
   "nbconvert_exporter": "python",
   "pygments_lexer": "ipython3",
   "version": "3.8.5"
  }
 },
 "nbformat": 4,
 "nbformat_minor": 4
}
