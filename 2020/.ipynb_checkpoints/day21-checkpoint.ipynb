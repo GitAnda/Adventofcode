{
 "cells": [
  {
   "cell_type": "code",
   "execution_count": 12,
   "metadata": {},
   "outputs": [],
   "source": [
    "f = open('day21.txt')\n",
    "input_puzzle = f.read().split('\\n')\n",
    "food_ingredients = [x.split(' (contains ')[0].split(' ') for x in input_puzzle]\n",
    "food_allergens = [x.split(' (contains ')[1][:-1].split(', ') for x in input_puzzle]"
   ]
  },
  {
   "cell_type": "code",
   "execution_count": 40,
   "metadata": {},
   "outputs": [
    {
     "name": "stdout",
     "output_type": "stream",
     "text": [
      "{'dairy': ['ndkkq', 'gfvrr'], 'shellfish': ['pkkg', 'ndkkq', 'mbkbn'], 'fish': ['ndkkq'], 'nuts': ['ndkkq', 'mjbtz', 'jxcxh', 'sgzr'], 'peanuts': ['ndkkq', 'bthjz'], 'soy': ['pkkg', 'gfvrr'], 'wheat': ['mjbtz', 'mbkbn'], 'sesame': ['ndkkq', 'sgzr']}\n",
      "{'dairy': ['gfvrr'], 'shellfish': ['pkkg', 'mbkbn'], 'fish': [], 'nuts': ['mjbtz', 'jxcxh', 'sgzr'], 'peanuts': ['bthjz'], 'soy': ['pkkg', 'gfvrr'], 'wheat': ['mjbtz', 'mbkbn'], 'sesame': ['sgzr']}\n",
      "\n",
      "{'dairy': [], 'shellfish': ['pkkg', 'mbkbn'], 'fish': [], 'nuts': ['mjbtz', 'jxcxh'], 'peanuts': [], 'soy': ['pkkg'], 'wheat': ['mjbtz', 'mbkbn'], 'sesame': []}\n",
      "\n",
      "{'dairy': [], 'shellfish': ['mbkbn'], 'fish': [], 'nuts': ['mjbtz', 'jxcxh'], 'peanuts': [], 'soy': [], 'wheat': ['mjbtz', 'mbkbn'], 'sesame': []}\n",
      "\n",
      "{'dairy': [], 'shellfish': [], 'fish': [], 'nuts': ['mjbtz', 'jxcxh'], 'peanuts': [], 'soy': [], 'wheat': ['mjbtz'], 'sesame': []}\n",
      "\n",
      "{'dairy': [], 'shellfish': [], 'fish': [], 'nuts': ['jxcxh'], 'peanuts': [], 'soy': [], 'wheat': [], 'sesame': []}\n",
      "\n",
      "{'dairy': [], 'shellfish': [], 'fish': [], 'nuts': [], 'peanuts': [], 'soy': [], 'wheat': [], 'sesame': []}\n",
      "\n",
      "{'dairy': [], 'shellfish': [], 'fish': [], 'nuts': [], 'peanuts': [], 'soy': [], 'wheat': [], 'sesame': []}\n",
      "\n"
     ]
    },
    {
     "data": {
      "text/plain": [
       "dict_values(['ndkkq', 'gfvrr', 'bthjz', 'sgzr', 'pkkg', 'mbkbn', 'mjbtz', 'jxcxh'])"
      ]
     },
     "execution_count": 40,
     "metadata": {},
     "output_type": "execute_result"
    }
   ],
   "source": [
    "def get_candidates(allergen, food_ingredients, food_allergens):\n",
    "    idx = []\n",
    "    for i,a in enumerate(allergens):\n",
    "        if allergen in a:\n",
    "            idx.append(i)\n",
    "    \n",
    "    candidates = []\n",
    "    for ingredient in get_unique(food_ingredients):\n",
    "        add = True\n",
    "        for i in idx:\n",
    "            if not(ingredient in food_ingredients[i]):\n",
    "                add = False\n",
    "                break\n",
    "        \n",
    "        if add:\n",
    "            candidates.append(ingredient)\n",
    "        \n",
    "    return candidates\n",
    "\n",
    "def get_unique(list_of_list):\n",
    "    return list(set([y for x in list_of_list for y in x]))\n",
    "\n",
    "def get_all_candidates(food_ingredients, food_allergens):\n",
    "    candidates = {}\n",
    "    for allergen in get_unique(food_allergens):\n",
    "        candidates[allergen] = get_candidates(allergen, food_ingredients, food_allergens)\n",
    "    return candidates\n",
    "\n",
    "def solve_allergens(food_ingredients, food_allergens):\n",
    "    candidates = get_all_candidates(food_ingredients, food_allergens)\n",
    "    print(candidates)\n",
    "    solution = {}\n",
    "    \n",
    "    cont = True\n",
    "    while cont == True:\n",
    "        cont = False\n",
    "        remove = []\n",
    "        for key in candidates.keys():\n",
    "            if len(candidates[key]) == 1:\n",
    "                cont = True\n",
    "                solution[key] = candidates[key][0]\n",
    "                remove.append(candidates[key][0])\n",
    "\n",
    "        for key in candidates.keys():\n",
    "            for item in remove:\n",
    "                if item in candidates[key]:\n",
    "                    candidates[key].remove(item)\n",
    "\n",
    "        print(candidates)\n",
    "        print()\n",
    "    return solution\n",
    "\n",
    "def count_clean_ingredients():\n",
    "    count = 0\n",
    "    allergic_ingredients = list(solve_allergens(food_ingredients, food_allergens).values())\n",
    "    \n",
    "    for ingredients in food_ingredients:\n",
    "        for ingredient in ingredients:\n",
    "            if not(ingredient in allergic_ingredients):\n",
    "                count += 1\n",
    "        \n",
    "    return count\n"
   ]
  },
  {
   "cell_type": "code",
   "execution_count": 26,
   "metadata": {},
   "outputs": [
    {
     "data": {
      "text/plain": [
       "True"
      ]
     },
     "execution_count": 26,
     "metadata": {},
     "output_type": "execute_result"
    }
   ],
   "source": [
    "a = 'bb'\n",
    "li = [ 'b', 'bbb', 'op', 'bb']\n",
    "a in li"
   ]
  }
 ],
 "metadata": {
  "kernelspec": {
   "display_name": "Python (myenv)",
   "language": "python",
   "name": "myenv"
  },
  "language_info": {
   "codemirror_mode": {
    "name": "ipython",
    "version": 3
   },
   "file_extension": ".py",
   "mimetype": "text/x-python",
   "name": "python",
   "nbconvert_exporter": "python",
   "pygments_lexer": "ipython3",
   "version": "3.8.5"
  }
 },
 "nbformat": 4,
 "nbformat_minor": 4
}
