{
 "cells": [
  {
   "cell_type": "code",
   "execution_count": 5,
   "metadata": {},
   "outputs": [
    {
     "data": {
      "text/plain": [
       "['...#.....#.......##......#.....',\n",
       " '...#..................#........',\n",
       " '....##....#.......#............',\n",
       " '.........#.......#.......#.....',\n",
       " '..#..............#.........#..#']"
      ]
     },
     "execution_count": 5,
     "metadata": {},
     "output_type": "execute_result"
    }
   ],
   "source": [
    "f = open(\"day3.txt\", \"r\")\n",
    "input_puzzle = f.read()\n",
    "input_puzzle = input_puzzle.split('\\n')[0:-1]\n",
    "input_puzzle[0:5]"
   ]
  },
  {
   "cell_type": "code",
   "execution_count": 32,
   "metadata": {},
   "outputs": [
    {
     "data": {
      "text/plain": [
       "220"
      ]
     },
     "execution_count": 32,
     "metadata": {},
     "output_type": "execute_result"
    }
   ],
   "source": [
    "n = len(input_puzzle[0])\n",
    "pos_x = 0\n",
    "count = 0 \n",
    "\n",
    "for line in input_puzzle:\n",
    "    if line[pos_x] == '#':\n",
    "        count += 1\n",
    "    pos_x = (pos_x + 3)%len(line)\n",
    "    \n",
    "count"
   ]
  },
  {
   "cell_type": "code",
   "execution_count": 34,
   "metadata": {},
   "outputs": [
    {
     "data": {
      "text/plain": [
       "2138320800"
      ]
     },
     "execution_count": 34,
     "metadata": {},
     "output_type": "execute_result"
    }
   ],
   "source": [
    "n = len(input_puzzle[0])\n",
    "\n",
    "def trees_on_slope(dx,dy):\n",
    "    pos_x = 0\n",
    "    count = 0 \n",
    "\n",
    "    for i in range(0,len(input_puzzle),dy):\n",
    "        if input_puzzle[i][pos_x] == '#':\n",
    "            count += 1\n",
    "        pos_x = (pos_x + dx)%len(input_puzzle[i])\n",
    "\n",
    "    return count\n",
    "\n",
    "trees_on_slope(3,1)*trees_on_slope(1,1)*trees_on_slope(5,1)*trees_on_slope(7,1)*trees_on_slope(1,2)"
   ]
  }
 ],
 "metadata": {
  "kernelspec": {
   "display_name": "Python (myenv)",
   "language": "python",
   "name": "myenv"
  },
  "language_info": {
   "codemirror_mode": {
    "name": "ipython",
    "version": 3
   },
   "file_extension": ".py",
   "mimetype": "text/x-python",
   "name": "python",
   "nbconvert_exporter": "python",
   "pygments_lexer": "ipython3",
   "version": "3.8.5"
  }
 },
 "nbformat": 4,
 "nbformat_minor": 4
}
