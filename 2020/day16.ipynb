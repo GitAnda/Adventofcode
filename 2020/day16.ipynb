{
 "cells": [
  {
   "cell_type": "code",
   "execution_count": 68,
   "metadata": {},
   "outputs": [
    {
     "data": {
      "text/plain": [
       "['departure location: 47-874 or 885-960',\n",
       " 'departure station: 25-616 or 622-964',\n",
       " 'departure platform: 42-807 or 825-966',\n",
       " 'departure track: 36-560 or 583-965',\n",
       " 'departure date: 37-264 or 289-968',\n",
       " 'departure time: 27-325 or 346-954',\n",
       " 'arrival location: 37-384 or 391-950',\n",
       " 'arrival station: 35-233 or 244-963',\n",
       " 'arrival platform: 26-652 or 675-949',\n",
       " 'arrival track: 41-689 or 710-954',\n",
       " 'class: 27-75 or 81-952',\n",
       " 'duration: 45-784 or 807-967',\n",
       " 'price: 40-350 or 374-970',\n",
       " 'route: 30-892 or 904-968',\n",
       " 'row: 47-144 or 151-957',\n",
       " 'seat: 28-750 or 773-973',\n",
       " 'train: 30-456 or 475-950',\n",
       " 'type: 34-642 or 648-968',\n",
       " 'wagon: 42-486 or 498-970',\n",
       " 'zone: 37-152 or 167-973']"
      ]
     },
     "execution_count": 68,
     "metadata": {},
     "output_type": "execute_result"
    }
   ],
   "source": [
    "f = open('day16.txt')\n",
    "input_puzzle = f.read().split('\\n')\n",
    "ranges = input_puzzle[0:20]\n",
    "my_ticket = input_puzzle[22].split(',')\n",
    "tickets = input_puzzle[25:]\n",
    "tickets = [x.split(',') for x in tickets]\n",
    "tickets = [[int(value) for value in ticket] for ticket in tickets]\n",
    "ranges"
   ]
  },
  {
   "cell_type": "code",
   "execution_count": 54,
   "metadata": {},
   "outputs": [
    {
     "data": {
      "text/plain": [
       "19087"
      ]
     },
     "execution_count": 54,
     "metadata": {},
     "output_type": "execute_result"
    }
   ],
   "source": [
    "ranges_minmax = [x.split(': ')[1].split(' or ') for x in ranges]\n",
    "ranges_minmax = [[int(x.split('-')[0]), int(x.split('-')[1])] for line in ranges_minmax for x in line]\n",
    "ranges_minmax\n",
    "\n",
    "tser = 0\n",
    "for ticket in tickets:\n",
    "    for value in ticket:\n",
    "        if not(any([x[0] < value < x[1] for x in ranges_minmax])):\n",
    "#             print(value)\n",
    "            tser += value\n",
    "\n",
    "tser"
   ]
  },
  {
   "cell_type": "code",
   "execution_count": 143,
   "metadata": {},
   "outputs": [],
   "source": [
    "def is_ticket_valid(ticket, ranges):\n",
    "    ranges_minmax = [x.split(': ')[1].split(' or ') for x in ranges]\n",
    "    ranges_minmax = [[int(x.split('-')[0]), int(x.split('-')[1])] for line in ranges_minmax for x in line]\n",
    "    ranges_minmax\n",
    "\n",
    "    for value in ticket:\n",
    "        if not(any([x[0] < value < x[1] for x in ranges_minmax])):\n",
    "            return False\n",
    "\n",
    "    return True\n",
    "\n",
    "def find_possible_fields():\n",
    "    valid_tickets = [ticket for ticket in tickets if is_ticket_valid(ticket, ranges)]\n",
    "    valid_tickets.append([int(x) for x in my_ticket])\n",
    "    \n",
    "    possible_fields = []\n",
    "    \n",
    "    for item in ranges:\n",
    "        field = item.split(': ')[0]\n",
    "        field_ranges = item.split(': ')[1].split(' or ')\n",
    "        \n",
    "        for i in range(len(valid_tickets[0])):\n",
    "            first_range = [int(field_ranges[0].split('-')[0]) <= x[i] <= int(field_ranges[0].split('-')[1]) for x in valid_tickets]\n",
    "            second_range = [int(field_ranges[1].split('-')[0]) <= x[i] <= int(field_ranges[1].split('-')[1]) for x in valid_tickets]\n",
    "            \n",
    "            if all([first_range[i] or second_range[i] for i in range(len(first_range))]):\n",
    "                possible_fields.append([i,  field])\n",
    "            \n",
    "    return possible_fields\n",
    "\n",
    "# find_possible_fields()"
   ]
  },
  {
   "cell_type": "code",
   "execution_count": 142,
   "metadata": {
    "scrolled": true
   },
   "outputs": [
    {
     "data": {
      "text/plain": [
       "1382443095281"
      ]
     },
     "execution_count": 142,
     "metadata": {},
     "output_type": "execute_result"
    }
   ],
   "source": [
    "possible_fields = sorted(find_possible_fields())\n",
    "\n",
    "result = []\n",
    "\n",
    "new = True\n",
    "while new == True:\n",
    "#     print(possible_fields)\n",
    "    new = False\n",
    "    for i in range(19):\n",
    "        bools = [x[0] == i for x in possible_fields]\n",
    "        if sum(bools) == 1:\n",
    "#             print(possible_fields[bools.index(True)])\n",
    "            result.append(possible_fields[bools.index(True)])\n",
    "            possible_fields = [x for x in possible_fields if x[1] != possible_fields[bools.index(True)][1]]\n",
    "            new = True\n",
    "    \n",
    "    unique_fields = set([x[1] for x in possible_fields])\n",
    "#     print(unique_fields)\n",
    "    for field in unique_fields:\n",
    "        bools = [x[1] == field for x in possible_fields]\n",
    "        if sum(bools) == 1:\n",
    "#             print(possible_fields[bools.index(True)])\n",
    "            result.append(possible_fields[bools.index(True)])\n",
    "            possible_fields = [x for x in possible_fields if x[0] != possible_fields[bools.index(True)][0]]\n",
    "            new = True\n",
    "\n",
    "result = sorted(result)\n",
    "\n",
    "prod = 1\n",
    "for field in result:\n",
    "#     print(field)\n",
    "    if 'departure' in field[1]:\n",
    "#         print(my_ticket[field[0]])\n",
    "        prod *= int(my_ticket[field[0]])\n",
    "\n",
    "prod"
   ]
  }
 ],
 "metadata": {
  "kernelspec": {
   "display_name": "Python (myenv)",
   "language": "python",
   "name": "myenv"
  },
  "language_info": {
   "codemirror_mode": {
    "name": "ipython",
    "version": 3
   },
   "file_extension": ".py",
   "mimetype": "text/x-python",
   "name": "python",
   "nbconvert_exporter": "python",
   "pygments_lexer": "ipython3",
   "version": "3.8.5"
  }
 },
 "nbformat": 4,
 "nbformat_minor": 4
}
