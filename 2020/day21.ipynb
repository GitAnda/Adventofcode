{
 "cells": [
  {
   "cell_type": "code",
   "execution_count": 67,
   "metadata": {},
   "outputs": [],
   "source": [
    "f = open('day21.txt')\n",
    "input_puzzle = f.read().split('\\n')\n",
    "food_ingredients = [x.split(' (contains ')[0].split(' ') for x in input_puzzle]\n",
    "food_allergens = [x.split(' (contains ')[1][:-1].split(', ') for x in input_puzzle]"
   ]
  },
  {
   "cell_type": "code",
   "execution_count": 68,
   "metadata": {},
   "outputs": [
    {
     "name": "stdout",
     "output_type": "stream",
     "text": [
      "2874\n"
     ]
    }
   ],
   "source": [
    "def get_candidates(allergen, food_ingredients, food_allergens):\n",
    "    idx = []\n",
    "    for i,a in enumerate(food_allergens):\n",
    "        if allergen in a:\n",
    "            idx.append(i)\n",
    "\n",
    "    candidates = []\n",
    "    for ingredient in get_unique(food_ingredients):\n",
    "        add = True\n",
    "        for i in idx:\n",
    "            if not(ingredient in food_ingredients[i]):\n",
    "                add = False\n",
    "                break\n",
    "        \n",
    "        if add:\n",
    "            candidates.append(ingredient)\n",
    "        \n",
    "    return candidates\n",
    "\n",
    "def get_unique(list_of_list):\n",
    "    return list(set([y for x in list_of_list for y in x]))\n",
    "\n",
    "def get_all_candidates(food_ingredients, food_allergens):\n",
    "    candidates = {}\n",
    "    for allergen in get_unique(food_allergens):\n",
    "        candidates[allergen] = get_candidates(allergen, food_ingredients, food_allergens)\n",
    "    return candidates\n",
    "\n",
    "def solve_allergens(food_ingredients, food_allergens):\n",
    "    candidates = get_all_candidates(food_ingredients, food_allergens)\n",
    "#     print(candidates)\n",
    "    solution = {}\n",
    "    \n",
    "    cont = True\n",
    "    while cont == True:\n",
    "        cont = False\n",
    "        remove = []\n",
    "        for key in candidates.keys():\n",
    "            if len(candidates[key]) == 1:\n",
    "                cont = True\n",
    "                solution[key] = candidates[key][0]\n",
    "                remove.append(candidates[key][0])\n",
    "\n",
    "        for key in candidates.keys():\n",
    "            for item in remove:\n",
    "                if item in candidates[key]:\n",
    "                    candidates[key].remove(item)\n",
    "\n",
    "#         print(candidates)\n",
    "#         print()\n",
    "    return solution\n",
    "\n",
    "def count_clean_ingredients(food_ingredients, food_allergens):\n",
    "    count = 0\n",
    "    allergic_ingredients = list(solve_allergens(food_ingredients, food_allergens).values())\n",
    "    \n",
    "    for ingredients in food_ingredients:\n",
    "        for ingredient in ingredients:\n",
    "            if not(ingredient in allergic_ingredients):\n",
    "                count += 1\n",
    "        \n",
    "    return count\n",
    "\n",
    "\n",
    "print(count_clean_ingredients(food_ingredients, food_allergens))"
   ]
  },
  {
   "cell_type": "code",
   "execution_count": 69,
   "metadata": {},
   "outputs": [
    {
     "name": "stdout",
     "output_type": "stream",
     "text": [
      "gfvrr,ndkkq,jxcxh,bthjz,sgzr,mbkbn,pkkg,mjbtz,"
     ]
    }
   ],
   "source": [
    "dangerous_list = solve_allergens(food_ingredients, food_allergens)\n",
    "for x in sorted(list(solve_allergens(food_ingredients, food_allergens).keys())):\n",
    "    print(dangerous_list[x]+',', end= \"\")\n",
    "\n",
    "# get_all_candidates(food_ingredients, food_allergens)"
   ]
  }
 ],
 "metadata": {
  "kernelspec": {
   "display_name": "Python (myenv)",
   "language": "python",
   "name": "myenv"
  },
  "language_info": {
   "codemirror_mode": {
    "name": "ipython",
    "version": 3
   },
   "file_extension": ".py",
   "mimetype": "text/x-python",
   "name": "python",
   "nbconvert_exporter": "python",
   "pygments_lexer": "ipython3",
   "version": "3.8.5"
  }
 },
 "nbformat": 4,
 "nbformat_minor": 4
}
