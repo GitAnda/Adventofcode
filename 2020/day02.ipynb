{
 "cells": [
  {
   "cell_type": "code",
   "execution_count": 1,
   "metadata": {},
   "outputs": [
    {
     "data": {
      "text/plain": [
       "['15 16 l klfbblslvjclmlnqklvg',\n",
       " '6 13 h pghjchdxhnjhjd',\n",
       " '4 13 n nnznntzznqnzbtzj',\n",
       " '10 16 r nrrrrkrjtxwrrrwx',\n",
       " '1 6 t rttftttttttttmdttttt']"
      ]
     },
     "execution_count": 1,
     "metadata": {},
     "output_type": "execute_result"
    }
   ],
   "source": [
    "f = open(\"day2.txt\", \"r\")\n",
    "input_puzzle = f.read()\n",
    "input_puzzle = input_puzzle.replace('-', \" \")\n",
    "input_puzzle = input_puzzle.replace(':', \"\")\n",
    "input_puzzle = input_puzzle.split('\\n')[0:-1]\n",
    "input_puzzle[0:5]"
   ]
  },
  {
   "cell_type": "code",
   "execution_count": 14,
   "metadata": {},
   "outputs": [
    {
     "data": {
      "text/plain": [
       "424"
      ]
     },
     "execution_count": 14,
     "metadata": {},
     "output_type": "execute_result"
    }
   ],
   "source": [
    "count = 0\n",
    "for item in input_puzzle:\n",
    "    min_alf, max_alf, alf, password = item.split(' ')\n",
    "    if password.count(alf) <= int(max_alf) and password.count(alf)>= int(min_alf):\n",
    "        count += 1\n",
    "        \n",
    "count"
   ]
  },
  {
   "cell_type": "code",
   "execution_count": 15,
   "metadata": {},
   "outputs": [
    {
     "data": {
      "text/plain": [
       "747"
      ]
     },
     "execution_count": 15,
     "metadata": {},
     "output_type": "execute_result"
    }
   ],
   "source": [
    "count = 0\n",
    "for item in input_puzzle:\n",
    "    pos1, pos2, alf, password = item.split(' ')\n",
    "    if (password[int(pos1)-1] == alf) != (password[int(pos2)-1] == alf):\n",
    "        count += 1\n",
    "        \n",
    "count"
   ]
  }
 ],
 "metadata": {
  "kernelspec": {
   "display_name": "Python (myenv)",
   "language": "python",
   "name": "myenv"
  },
  "language_info": {
   "codemirror_mode": {
    "name": "ipython",
    "version": 3
   },
   "file_extension": ".py",
   "mimetype": "text/x-python",
   "name": "python",
   "nbconvert_exporter": "python",
   "pygments_lexer": "ipython3",
   "version": "3.8.5"
  }
 },
 "nbformat": 4,
 "nbformat_minor": 4
}
