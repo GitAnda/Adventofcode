{
 "cells": [
  {
   "cell_type": "code",
   "execution_count": 2,
   "metadata": {},
   "outputs": [
    {
     "data": {
      "text/plain": [
       "[19, 41, 37, 787, 13, 23, 29, 571, 17]"
      ]
     },
     "execution_count": 2,
     "metadata": {},
     "output_type": "execute_result"
    }
   ],
   "source": [
    "f = open('day13.txt', 'r')\n",
    "input_puzzle = f.read().split('\\n')\n",
    "timestamp = int(input_puzzle[0])\n",
    "bus_id = [int(x) for x in input_puzzle[1].split(',') if x != 'x']\n",
    "bus_id"
   ]
  },
  {
   "cell_type": "code",
   "execution_count": 5,
   "metadata": {},
   "outputs": [
    {
     "data": {
      "text/plain": [
       "3997"
      ]
     },
     "execution_count": 5,
     "metadata": {},
     "output_type": "execute_result"
    }
   ],
   "source": [
    "import math as m\n",
    "array = [m.ceil(timestamp / x) * x % timestamp for x in bus_id]\n",
    "idx = array.index(min(array))\n",
    "array[idx]*bus_id[idx]"
   ]
  },
  {
   "cell_type": "code",
   "execution_count": 6,
   "metadata": {},
   "outputs": [
    {
     "name": "stdout",
     "output_type": "stream",
     "text": [
      "x = 0 mod 19\n",
      "x = 40 mod 41\n",
      "x = 35 mod 37\n",
      "x = 784 mod 787\n",
      "x = 9 mod 13\n",
      "x = 18 mod 23\n",
      "x = 23 mod 29\n",
      "x = 564 mod 571\n",
      "x = 9 mod 17\n"
     ]
    },
    {
     "data": {
      "text/plain": [
       "109774640921292"
      ]
     },
     "execution_count": 6,
     "metadata": {},
     "output_type": "execute_result"
    }
   ],
   "source": [
    "import numpy as np\n",
    "delta = [i for i,x in enumerate(bus_id) if x != 'x']\n",
    "modulos = bus_id\n",
    "remainders = list((np.array(bus_id) - np.array(delta) % np.array(bus_id)) % np.array(bus_id))\n",
    "\n",
    "from functools import reduce\n",
    "def chinese_remainder(n, a):\n",
    "    sum = 0\n",
    "    prod = reduce(lambda a, b: a*b, n)\n",
    "    for n_i, a_i in zip(n, a):\n",
    "        p = prod // n_i\n",
    "        sum += a_i * inverse(p, n_i) * p\n",
    "    return sum % prod\n",
    "\n",
    "def inverse(a, b):\n",
    "    b0 = b\n",
    "    x0, x1 = 0, 1\n",
    "    if b == 1: return 1\n",
    "    while a > 1:\n",
    "        q = a // b\n",
    "        a, b = b, a%b\n",
    "        x0, x1 = x1 - q * x0, x0\n",
    "    if x1 < 0: x1 += b0\n",
    "    return x1\n",
    "\n",
    "# Use Chinese Remainder Theorem with\n",
    "for i in range(len(bus_id)):\n",
    "    print('x =', remainders[i], 'mod', modulos[i])\n",
    "chinese_remainder(modulos, remainders)"
   ]
  }
 ],
 "metadata": {
  "kernelspec": {
   "display_name": "Python (myenv)",
   "language": "python",
   "name": "myenv"
  },
  "language_info": {
   "codemirror_mode": {
    "name": "ipython",
    "version": 3
   },
   "file_extension": ".py",
   "mimetype": "text/x-python",
   "name": "python",
   "nbconvert_exporter": "python",
   "pygments_lexer": "ipython3",
   "version": "3.8.5"
  }
 },
 "nbformat": 4,
 "nbformat_minor": 4
}
