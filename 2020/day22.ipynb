{
 "cells": [
  {
   "cell_type": "code",
   "execution_count": 1,
   "metadata": {},
   "outputs": [
    {
     "name": "stdout",
     "output_type": "stream",
     "text": [
      "Player 1 wins!\n"
     ]
    },
    {
     "data": {
      "text/plain": [
       "32448"
      ]
     },
     "execution_count": 1,
     "metadata": {},
     "output_type": "execute_result"
    }
   ],
   "source": [
    "f = open('day22.txt')\n",
    "input_puzzle = f.read().split('\\n\\n')\n",
    "deck_player_1 = input_puzzle[0].split('\\n')[1:]\n",
    "deck_player_2 = input_puzzle[1].split('\\n')[1:]\n",
    "\n",
    "while len(deck_player_1) != 0 and len(deck_player_2) != 0:\n",
    "    if int(deck_player_1[0]) > int(deck_player_2[0]):\n",
    "        deck_player_1.append(deck_player_1[0])\n",
    "        deck_player_1.append(deck_player_2[0])\n",
    "        deck_player_1 = deck_player_1[1:]\n",
    "        deck_player_2 = deck_player_2[1:]\n",
    "    else:\n",
    "        deck_player_2.append(deck_player_2[0])\n",
    "        deck_player_2.append(deck_player_1[0])\n",
    "        deck_player_2 = deck_player_2[1:]\n",
    "        deck_player_1 = deck_player_1[1:]\n",
    "    \n",
    "if len(deck_player_1) != 0:\n",
    "    print('Player 1 wins!')\n",
    "    winning_deck = deck_player_1\n",
    "else:\n",
    "    print('Player 2 wins!')\n",
    "    winning_deck = deck_player_2\n",
    "\n",
    "multiplier = len(winning_deck)\n",
    "som = 0\n",
    "for x in winning_deck:\n",
    "    som += multiplier*int(x)\n",
    "    multiplier -= 1\n",
    "    \n",
    "som"
   ]
  },
  {
   "cell_type": "code",
   "execution_count": 2,
   "metadata": {},
   "outputs": [
    {
     "name": "stdout",
     "output_type": "stream",
     "text": [
      "['42', '15', '37', '20', '35', '5', '44', '26', '23', '8', '47', '29', '30', '12', '32', '28', '21', '3', '43', '11', '39', '6', '24', '22', '36', '34', '50', '31', '16', '13', '49', '19', '10', '2', '41', '18', '40', '14', '4', '1', '48', '17', '33', '9', '45', '38', '46', '27', '25', '7']\n",
      "[]\n",
      "32949\n"
     ]
    },
    {
     "data": {
      "text/plain": [
       "1"
      ]
     },
     "execution_count": 2,
     "metadata": {},
     "output_type": "execute_result"
    }
   ],
   "source": [
    "f = open('day22.txt')\n",
    "input_puzzle = f.read().split('\\n\\n')\n",
    "input_1 = input_puzzle[0].split('\\n')[1:]\n",
    "input_2 = input_puzzle[1].split('\\n')[1:]\n",
    "\n",
    "def play_round(deck_1, deck_2):\n",
    "#     print(deck_1)\n",
    "#     print(deck_2)\n",
    "#     print()\n",
    "    \n",
    "    if (int(deck_1[0]) < len(deck_1) and int(deck_2[0]) < len(deck_2)):\n",
    "        winner = play_game(deck_1[1:int(deck_1[0])+1], deck_2[1:int(deck_2[0])+1])\n",
    "    else:\n",
    "        if int(deck_1[0]) > int(deck_2[0]):\n",
    "            winner = 1\n",
    "        else:\n",
    "            winner = 2\n",
    "    \n",
    "    if winner == 1:\n",
    "        deck_1.append(deck_1[0])\n",
    "        deck_1.append(deck_2[0])\n",
    "        deck_1 = deck_1[1:]\n",
    "        deck_2 = deck_2[1:]\n",
    "    else:\n",
    "        deck_2.append(deck_2[0])\n",
    "        deck_2.append(deck_1[0])\n",
    "        deck_2 = deck_2[1:]\n",
    "        deck_1 = deck_1[1:]\n",
    "            \n",
    "    return deck_1, deck_2\n",
    "\n",
    "def calculate_score(deck):\n",
    "    multiplier = len(deck)\n",
    "    som = 0\n",
    "    for x in deck:\n",
    "        som += multiplier*int(x)\n",
    "        multiplier -= 1\n",
    "\n",
    "    return som\n",
    "\n",
    "def is_equal(list_1, list_2):\n",
    "    if len(list_1) == len(list_2):\n",
    "        return all([list_1[i] == list_2[i] for i in range(len(list_1))])\n",
    "    return False\n",
    "\n",
    "def play_game(deck_player_1, deck_player_2):\n",
    "#     print('game started')\n",
    "#     print('1:', deck_player_1)\n",
    "#     print('2:', deck_player_2)\n",
    "#     print()\n",
    "    deck_list_1 = []\n",
    "    deck_list_2 = []\n",
    "    \n",
    "    while len(deck_player_1) != 0 and len(deck_player_2) != 0:\n",
    "        \n",
    "        for i in range(len(deck_list_2)):\n",
    "            if is_equal(deck_player_1, deck_list_1[i]) and is_equal(deck_player_2, deck_list_2[i]):\n",
    "#                 print('test')\n",
    "                return 1\n",
    "        \n",
    "        deck_list_1.append(list(deck_player_1))\n",
    "        deck_list_2.append(list(deck_player_2))\n",
    "        \n",
    "        deck_player_1, deck_player_2 = play_round(deck_player_1, deck_player_2)\n",
    "        \n",
    "#     print('1:', deck_player_1)\n",
    "#     print('2:', deck_player_2)\n",
    "#     print('game ended')\n",
    "    \n",
    "    if len(deck_player_1) == 0:\n",
    "        if (len(deck_player_2) == 50):\n",
    "            print(deck_player_1)\n",
    "            print(deck_player_2)\n",
    "            print(calculate_score(deck_player_2))\n",
    "        return 2\n",
    "    else:\n",
    "        if (len(deck_player_1) == 50):\n",
    "            print(deck_player_1)\n",
    "            print(deck_player_2)\n",
    "            print(calculate_score(deck_player_1))\n",
    "        return 1\n",
    "\n",
    "play_game(input_1, input_2)"
   ]
  }
 ],
 "metadata": {
  "kernelspec": {
   "display_name": "Python 3",
   "language": "python",
   "name": "python3"
  },
  "language_info": {
   "codemirror_mode": {
    "name": "ipython",
    "version": 3
   },
   "file_extension": ".py",
   "mimetype": "text/x-python",
   "name": "python",
   "nbconvert_exporter": "python",
   "pygments_lexer": "ipython3",
   "version": "3.8.5"
  }
 },
 "nbformat": 4,
 "nbformat_minor": 4
}
