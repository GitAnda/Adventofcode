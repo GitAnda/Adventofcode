{
 "cells": [
  {
   "cell_type": "code",
   "execution_count": 2,
   "metadata": {},
   "outputs": [
    {
     "data": {
      "text/plain": [
       "[19, 41, 37, 787, 13, 23, 29, 571, 17]"
      ]
     },
     "execution_count": 2,
     "metadata": {},
     "output_type": "execute_result"
    }
   ],
   "source": [
    "f = open('day13.txt', 'r')\n",
    "input_puzzle = f.read().split('\\n')\n",
    "timestamp = int(input_puzzle[0])\n",
    "bus_id = [int(x) for x in input_puzzle[1].split(',') if x != 'x']\n",
    "bus_id"
   ]
  },
  {
   "cell_type": "code",
   "execution_count": 5,
   "metadata": {},
   "outputs": [
    {
     "data": {
      "text/plain": [
       "3997"
      ]
     },
     "execution_count": 5,
     "metadata": {},
     "output_type": "execute_result"
    }
   ],
   "source": [
    "import math as m\n",
    "array = [m.ceil(timestamp / x) * x % timestamp for x in bus_id]\n",
    "idx = array.index(min(array))\n",
    "array[idx]*bus_id[idx]"
   ]
  },
  {
   "cell_type": "code",
   "execution_count": 8,
   "metadata": {},
   "outputs": [
    {
     "name": "stdout",
     "output_type": "stream",
     "text": [
      "x = 19 mod 19\n",
      "x = 32 mod 41\n",
      "x = 24 mod 37\n",
      "x = 768 mod 787\n",
      "x = 7 mod 13\n",
      "x = 4 mod 23\n",
      "x = 10 mod 29\n",
      "x = 521 mod 571\n",
      "x = 1 mod 17\n"
     ]
    }
   ],
   "source": [
    "import numpy as np\n",
    "delta = [i for i,x in enumerate(bus_id_x) if x != 'x']\n",
    "\n",
    "# Use Chinese Remainder Theorem with\n",
    "for i in range(len(bus_id)):\n",
    "    remainder = list(np.array(bus_id) - np.array(delta) % np.array(bus_id))\n",
    "    print('x =', remainder[i], 'mod', bus_id[i])"
   ]
  }
 ],
 "metadata": {
  "kernelspec": {
   "display_name": "Python (myenv)",
   "language": "python",
   "name": "myenv"
  },
  "language_info": {
   "codemirror_mode": {
    "name": "ipython",
    "version": 3
   },
   "file_extension": ".py",
   "mimetype": "text/x-python",
   "name": "python",
   "nbconvert_exporter": "python",
   "pygments_lexer": "ipython3",
   "version": "3.8.5"
  }
 },
 "nbformat": 4,
 "nbformat_minor": 4
}
